{
 "cells": [
  {
   "cell_type": "markdown",
   "id": "6yDxo9u0d9Na",
   "metadata": {
    "id": "6yDxo9u0d9Na"
   },
   "source": [
    "# Project Business Statistics: E-news Express\n",
    "\n"
   ]
  },
  {
   "cell_type": "markdown",
   "id": "8f623726",
   "metadata": {},
   "source": [
    "# Context"
   ]
  },
  {
   "cell_type": "markdown",
   "id": "9dd17404",
   "metadata": {},
   "source": [
    "An online news portal aims to expand its business by acquiring new subscribers. Every visitor to the website takes certain actions based on their interest. The company plans to analyze these interests and wants to determine whether a new feature will be effective or not. Companies often analyze users' responses to two variants of a product to decide which of the two variants is more effective. This experimental technique is known as a/b testing that is used to determine whether a new feature attracts users based on a chosen metric."
   ]
  },
  {
   "cell_type": "markdown",
   "id": "SrLd-ICEmPSD",
   "metadata": {
    "id": "SrLd-ICEmPSD"
   },
   "source": [
    "##  Problem Statement and Objectives"
   ]
  },
  {
   "cell_type": "markdown",
   "id": "9Vt1PLLqmXNn",
   "metadata": {
    "id": "9Vt1PLLqmXNn"
   },
   "source": [
    "\n",
    "\n",
    " To decide whether the new landing page is more effective to gather new subscribers. Suppose you randomly selected 100 users and divided them equally into two groups. The old landing page is served to the first group (control group) and the new landing page is served to the second group (treatment group). Various data about the customers in both groups are collected in 'abtest.csv'. Perform the statistical analysis to answer the following questions using the collected data.\n",
    " \n",
    " #Objective\n",
    "\n",
    "1.Explore the dataset and extract insights using Exploratory Data Analysis.\n",
    "\n",
    "2.Do the users spend more time on the new landing page than the existing landing page?\n",
    "\n",
    "3.Is the conversion rate (the proportion of users who visit the landing page and get converted) for the new page greater than the conversion rate for the old page?\n",
    "\n",
    "4.Does the converted status depend on the preferred language? [Hint: Create a contingency table using the pandas.crosstab() function]\n",
    "\n",
    "5.Is the time spent on the new page same for the different language users?\n",
    "\n",
    "*Consider a significance level of 0.05 for all tests.\n",
    "\n",
    "The idea behind answering these questions is to decide whether the new page is effective enough to gather new subscribers for the news portal. We will perform the statistical analysis on the collected data to make the business decision."
   ]
  },
  {
   "cell_type": "markdown",
   "id": "a6a3d218",
   "metadata": {
    "id": "a6a3d218"
   },
   "source": [
    "## Import all the necessary libraries"
   ]
  },
  {
   "cell_type": "code",
   "execution_count": 3,
   "id": "658c5dec",
   "metadata": {
    "id": "658c5dec"
   },
   "outputs": [],
   "source": [
    "import numpy as np\n",
    "import pandas as pd\n",
    "from matplotlib import pyplot as plt\n",
    "import seaborn as sns"
   ]
  },
  {
   "cell_type": "markdown",
   "id": "9d75cfa2",
   "metadata": {
    "id": "9d75cfa2"
   },
   "source": [
    "## 1. Explore the dataset and extract insights using Exploratory Data Analysis. "
   ]
  },
  {
   "cell_type": "markdown",
   "id": "27201534",
   "metadata": {
    "id": "27201534"
   },
   "source": [
    "### Exploratory Data Analysis - Step by step approach\n",
    "\n",
    "Typical Data exploration activity consists of the following steps:\n",
    "1.\tImporting Data\n",
    "2.\tVariable Identification\n",
    "3.  Variable Transformation/Feature Creation\n",
    "4.  Missing value detection\n",
    "5.\tUnivariate Analysis\n",
    "6.\tBivariate Analysis"
   ]
  },
  {
   "cell_type": "markdown",
   "id": "6970dd99",
   "metadata": {
    "id": "6970dd99"
   },
   "source": [
    "### Reading the Data into a DataFrame"
   ]
  },
  {
   "cell_type": "code",
   "execution_count": 4,
   "id": "d3b95640",
   "metadata": {
    "id": "d3b95640"
   },
   "outputs": [],
   "source": [
    "# write the code for reading the dataset abtest.csv\n",
    "df = pd.read_csv('abtest.csv')\n"
   ]
  },
  {
   "cell_type": "markdown",
   "id": "a4e471fd",
   "metadata": {
    "id": "a4e471fd"
   },
   "source": [
    "### Data Overview\n",
    "- View a few rows of the data frame.\n",
    "- Check the shape and data types of the data frame. Add observations.\n",
    "- Fix the data-types (if needed).\n",
    "- Missing Value Check.\n",
    "- Summary statistics from the data frame. Add observations."
   ]
  },
  {
   "cell_type": "code",
   "execution_count": 5,
   "id": "e1ad11d4",
   "metadata": {
    "id": "e1ad11d4"
   },
   "outputs": [
    {
     "data": {
      "text/html": [
       "<div>\n",
       "<style scoped>\n",
       "    .dataframe tbody tr th:only-of-type {\n",
       "        vertical-align: middle;\n",
       "    }\n",
       "\n",
       "    .dataframe tbody tr th {\n",
       "        vertical-align: top;\n",
       "    }\n",
       "\n",
       "    .dataframe thead th {\n",
       "        text-align: right;\n",
       "    }\n",
       "</style>\n",
       "<table border=\"1\" class=\"dataframe\">\n",
       "  <thead>\n",
       "    <tr style=\"text-align: right;\">\n",
       "      <th></th>\n",
       "      <th>user_id</th>\n",
       "      <th>group</th>\n",
       "      <th>landing_page</th>\n",
       "      <th>time_spent_on_the_page</th>\n",
       "      <th>converted</th>\n",
       "      <th>language_preferred</th>\n",
       "    </tr>\n",
       "  </thead>\n",
       "  <tbody>\n",
       "    <tr>\n",
       "      <th>0</th>\n",
       "      <td>546592</td>\n",
       "      <td>control</td>\n",
       "      <td>old</td>\n",
       "      <td>3.48</td>\n",
       "      <td>no</td>\n",
       "      <td>Spanish</td>\n",
       "    </tr>\n",
       "    <tr>\n",
       "      <th>1</th>\n",
       "      <td>546468</td>\n",
       "      <td>treatment</td>\n",
       "      <td>new</td>\n",
       "      <td>7.13</td>\n",
       "      <td>yes</td>\n",
       "      <td>English</td>\n",
       "    </tr>\n",
       "    <tr>\n",
       "      <th>2</th>\n",
       "      <td>546462</td>\n",
       "      <td>treatment</td>\n",
       "      <td>new</td>\n",
       "      <td>4.40</td>\n",
       "      <td>no</td>\n",
       "      <td>Spanish</td>\n",
       "    </tr>\n",
       "    <tr>\n",
       "      <th>3</th>\n",
       "      <td>546567</td>\n",
       "      <td>control</td>\n",
       "      <td>old</td>\n",
       "      <td>3.02</td>\n",
       "      <td>no</td>\n",
       "      <td>French</td>\n",
       "    </tr>\n",
       "    <tr>\n",
       "      <th>4</th>\n",
       "      <td>546459</td>\n",
       "      <td>treatment</td>\n",
       "      <td>new</td>\n",
       "      <td>4.75</td>\n",
       "      <td>yes</td>\n",
       "      <td>Spanish</td>\n",
       "    </tr>\n",
       "  </tbody>\n",
       "</table>\n",
       "</div>"
      ],
      "text/plain": [
       "   user_id      group landing_page  time_spent_on_the_page converted  \\\n",
       "0   546592    control          old                    3.48        no   \n",
       "1   546468  treatment          new                    7.13       yes   \n",
       "2   546462  treatment          new                    4.40        no   \n",
       "3   546567    control          old                    3.02        no   \n",
       "4   546459  treatment          new                    4.75       yes   \n",
       "\n",
       "  language_preferred  \n",
       "0            Spanish  \n",
       "1            English  \n",
       "2            Spanish  \n",
       "3             French  \n",
       "4            Spanish  "
      ]
     },
     "execution_count": 5,
     "metadata": {},
     "output_type": "execute_result"
    }
   ],
   "source": [
    "df.head()"
   ]
  },
  {
   "cell_type": "code",
   "execution_count": 6,
   "id": "6ec455f0",
   "metadata": {},
   "outputs": [
    {
     "data": {
      "text/html": [
       "<div>\n",
       "<style scoped>\n",
       "    .dataframe tbody tr th:only-of-type {\n",
       "        vertical-align: middle;\n",
       "    }\n",
       "\n",
       "    .dataframe tbody tr th {\n",
       "        vertical-align: top;\n",
       "    }\n",
       "\n",
       "    .dataframe thead th {\n",
       "        text-align: right;\n",
       "    }\n",
       "</style>\n",
       "<table border=\"1\" class=\"dataframe\">\n",
       "  <thead>\n",
       "    <tr style=\"text-align: right;\">\n",
       "      <th></th>\n",
       "      <th>user_id</th>\n",
       "      <th>group</th>\n",
       "      <th>landing_page</th>\n",
       "      <th>time_spent_on_the_page</th>\n",
       "      <th>converted</th>\n",
       "      <th>language_preferred</th>\n",
       "    </tr>\n",
       "  </thead>\n",
       "  <tbody>\n",
       "    <tr>\n",
       "      <th>95</th>\n",
       "      <td>546446</td>\n",
       "      <td>treatment</td>\n",
       "      <td>new</td>\n",
       "      <td>5.15</td>\n",
       "      <td>no</td>\n",
       "      <td>Spanish</td>\n",
       "    </tr>\n",
       "    <tr>\n",
       "      <th>96</th>\n",
       "      <td>546544</td>\n",
       "      <td>control</td>\n",
       "      <td>old</td>\n",
       "      <td>6.52</td>\n",
       "      <td>yes</td>\n",
       "      <td>English</td>\n",
       "    </tr>\n",
       "    <tr>\n",
       "      <th>97</th>\n",
       "      <td>546472</td>\n",
       "      <td>treatment</td>\n",
       "      <td>new</td>\n",
       "      <td>7.07</td>\n",
       "      <td>yes</td>\n",
       "      <td>Spanish</td>\n",
       "    </tr>\n",
       "    <tr>\n",
       "      <th>98</th>\n",
       "      <td>546481</td>\n",
       "      <td>treatment</td>\n",
       "      <td>new</td>\n",
       "      <td>6.20</td>\n",
       "      <td>yes</td>\n",
       "      <td>Spanish</td>\n",
       "    </tr>\n",
       "    <tr>\n",
       "      <th>99</th>\n",
       "      <td>546483</td>\n",
       "      <td>treatment</td>\n",
       "      <td>new</td>\n",
       "      <td>5.86</td>\n",
       "      <td>yes</td>\n",
       "      <td>English</td>\n",
       "    </tr>\n",
       "  </tbody>\n",
       "</table>\n",
       "</div>"
      ],
      "text/plain": [
       "    user_id      group landing_page  time_spent_on_the_page converted  \\\n",
       "95   546446  treatment          new                    5.15        no   \n",
       "96   546544    control          old                    6.52       yes   \n",
       "97   546472  treatment          new                    7.07       yes   \n",
       "98   546481  treatment          new                    6.20       yes   \n",
       "99   546483  treatment          new                    5.86       yes   \n",
       "\n",
       "   language_preferred  \n",
       "95            Spanish  \n",
       "96            English  \n",
       "97            Spanish  \n",
       "98            Spanish  \n",
       "99            English  "
      ]
     },
     "execution_count": 6,
     "metadata": {},
     "output_type": "execute_result"
    }
   ],
   "source": [
    "df.tail()"
   ]
  },
  {
   "cell_type": "code",
   "execution_count": 7,
   "id": "419a36d0",
   "metadata": {},
   "outputs": [
    {
     "data": {
      "text/plain": [
       "(100, 6)"
      ]
     },
     "execution_count": 7,
     "metadata": {},
     "output_type": "execute_result"
    }
   ],
   "source": [
    "df.shape"
   ]
  },
  {
   "cell_type": "code",
   "execution_count": 8,
   "id": "aeff4319",
   "metadata": {},
   "outputs": [
    {
     "name": "stdout",
     "output_type": "stream",
     "text": [
      "<class 'pandas.core.frame.DataFrame'>\n",
      "RangeIndex: 100 entries, 0 to 99\n",
      "Data columns (total 6 columns):\n",
      " #   Column                  Non-Null Count  Dtype  \n",
      "---  ------                  --------------  -----  \n",
      " 0   user_id                 100 non-null    int64  \n",
      " 1   group                   100 non-null    object \n",
      " 2   landing_page            100 non-null    object \n",
      " 3   time_spent_on_the_page  100 non-null    float64\n",
      " 4   converted               100 non-null    object \n",
      " 5   language_preferred      100 non-null    object \n",
      "dtypes: float64(1), int64(1), object(4)\n",
      "memory usage: 4.8+ KB\n"
     ]
    }
   ],
   "source": [
    "df.info()"
   ]
  },
  {
   "cell_type": "code",
   "execution_count": 9,
   "id": "1d3d8698",
   "metadata": {},
   "outputs": [],
   "source": [
    "df['group'] = df['group'].astype('category')\n",
    "df['landing_page'] = df['landing_page'].astype('category')\n",
    "df['converted'] = df['converted'].astype('category')\n",
    "df['language_preferred'] = df['language_preferred'].astype('category')"
   ]
  },
  {
   "cell_type": "code",
   "execution_count": 10,
   "id": "4c1be8ef",
   "metadata": {},
   "outputs": [
    {
     "data": {
      "text/plain": [
       "user_id                   0\n",
       "group                     0\n",
       "landing_page              0\n",
       "time_spent_on_the_page    0\n",
       "converted                 0\n",
       "language_preferred        0\n",
       "dtype: int64"
      ]
     },
     "execution_count": 10,
     "metadata": {},
     "output_type": "execute_result"
    }
   ],
   "source": [
    "df.isna().sum()"
   ]
  },
  {
   "cell_type": "code",
   "execution_count": 11,
   "id": "f9ef713d",
   "metadata": {},
   "outputs": [
    {
     "data": {
      "text/html": [
       "<div>\n",
       "<style scoped>\n",
       "    .dataframe tbody tr th:only-of-type {\n",
       "        vertical-align: middle;\n",
       "    }\n",
       "\n",
       "    .dataframe tbody tr th {\n",
       "        vertical-align: top;\n",
       "    }\n",
       "\n",
       "    .dataframe thead th {\n",
       "        text-align: right;\n",
       "    }\n",
       "</style>\n",
       "<table border=\"1\" class=\"dataframe\">\n",
       "  <thead>\n",
       "    <tr style=\"text-align: right;\">\n",
       "      <th></th>\n",
       "      <th>user_id</th>\n",
       "      <th>time_spent_on_the_page</th>\n",
       "    </tr>\n",
       "  </thead>\n",
       "  <tbody>\n",
       "    <tr>\n",
       "      <th>count</th>\n",
       "      <td>100.000000</td>\n",
       "      <td>100.000000</td>\n",
       "    </tr>\n",
       "    <tr>\n",
       "      <th>mean</th>\n",
       "      <td>546517.000000</td>\n",
       "      <td>5.377800</td>\n",
       "    </tr>\n",
       "    <tr>\n",
       "      <th>std</th>\n",
       "      <td>52.295779</td>\n",
       "      <td>2.378166</td>\n",
       "    </tr>\n",
       "    <tr>\n",
       "      <th>min</th>\n",
       "      <td>546443.000000</td>\n",
       "      <td>0.190000</td>\n",
       "    </tr>\n",
       "    <tr>\n",
       "      <th>25%</th>\n",
       "      <td>546467.750000</td>\n",
       "      <td>3.880000</td>\n",
       "    </tr>\n",
       "    <tr>\n",
       "      <th>50%</th>\n",
       "      <td>546492.500000</td>\n",
       "      <td>5.415000</td>\n",
       "    </tr>\n",
       "    <tr>\n",
       "      <th>75%</th>\n",
       "      <td>546567.250000</td>\n",
       "      <td>7.022500</td>\n",
       "    </tr>\n",
       "    <tr>\n",
       "      <th>max</th>\n",
       "      <td>546592.000000</td>\n",
       "      <td>10.710000</td>\n",
       "    </tr>\n",
       "  </tbody>\n",
       "</table>\n",
       "</div>"
      ],
      "text/plain": [
       "             user_id  time_spent_on_the_page\n",
       "count     100.000000              100.000000\n",
       "mean   546517.000000                5.377800\n",
       "std        52.295779                2.378166\n",
       "min    546443.000000                0.190000\n",
       "25%    546467.750000                3.880000\n",
       "50%    546492.500000                5.415000\n",
       "75%    546567.250000                7.022500\n",
       "max    546592.000000               10.710000"
      ]
     },
     "execution_count": 11,
     "metadata": {},
     "output_type": "execute_result"
    }
   ],
   "source": [
    "df.describe()"
   ]
  },
  {
   "cell_type": "code",
   "execution_count": 12,
   "id": "738a0edf",
   "metadata": {},
   "outputs": [
    {
     "data": {
      "text/plain": [
       "0"
      ]
     },
     "execution_count": 12,
     "metadata": {},
     "output_type": "execute_result"
    }
   ],
   "source": [
    "df.duplicated().sum()"
   ]
  },
  {
   "cell_type": "markdown",
   "id": "33eb391b",
   "metadata": {},
   "source": [
    "# Five point summary of continuous variables"
   ]
  },
  {
   "cell_type": "code",
   "execution_count": 13,
   "id": "fd45417f",
   "metadata": {},
   "outputs": [
    {
     "data": {
      "text/html": [
       "<div>\n",
       "<style scoped>\n",
       "    .dataframe tbody tr th:only-of-type {\n",
       "        vertical-align: middle;\n",
       "    }\n",
       "\n",
       "    .dataframe tbody tr th {\n",
       "        vertical-align: top;\n",
       "    }\n",
       "\n",
       "    .dataframe thead th {\n",
       "        text-align: right;\n",
       "    }\n",
       "</style>\n",
       "<table border=\"1\" class=\"dataframe\">\n",
       "  <thead>\n",
       "    <tr style=\"text-align: right;\">\n",
       "      <th></th>\n",
       "      <th>count</th>\n",
       "      <th>mean</th>\n",
       "      <th>std</th>\n",
       "      <th>min</th>\n",
       "      <th>25%</th>\n",
       "      <th>50%</th>\n",
       "      <th>75%</th>\n",
       "      <th>max</th>\n",
       "    </tr>\n",
       "  </thead>\n",
       "  <tbody>\n",
       "    <tr>\n",
       "      <th>user_id</th>\n",
       "      <td>100.0</td>\n",
       "      <td>546517.0000</td>\n",
       "      <td>52.295779</td>\n",
       "      <td>546443.00</td>\n",
       "      <td>546467.75</td>\n",
       "      <td>546492.500</td>\n",
       "      <td>546567.2500</td>\n",
       "      <td>546592.00</td>\n",
       "    </tr>\n",
       "    <tr>\n",
       "      <th>time_spent_on_the_page</th>\n",
       "      <td>100.0</td>\n",
       "      <td>5.3778</td>\n",
       "      <td>2.378166</td>\n",
       "      <td>0.19</td>\n",
       "      <td>3.88</td>\n",
       "      <td>5.415</td>\n",
       "      <td>7.0225</td>\n",
       "      <td>10.71</td>\n",
       "    </tr>\n",
       "  </tbody>\n",
       "</table>\n",
       "</div>"
      ],
      "text/plain": [
       "                        count         mean        std        min        25%  \\\n",
       "user_id                 100.0  546517.0000  52.295779  546443.00  546467.75   \n",
       "time_spent_on_the_page  100.0       5.3778   2.378166       0.19       3.88   \n",
       "\n",
       "                               50%          75%        max  \n",
       "user_id                 546492.500  546567.2500  546592.00  \n",
       "time_spent_on_the_page       5.415       7.0225      10.71  "
      ]
     },
     "execution_count": 13,
     "metadata": {},
     "output_type": "execute_result"
    }
   ],
   "source": [
    "df.describe().T"
   ]
  },
  {
   "cell_type": "markdown",
   "id": "a59d0493",
   "metadata": {},
   "source": [
    "1.The user_id column contains the USER ID of the person visiting the page.\n",
    "\n",
    "2.The maximum time spent on the landing page is less than 11 mins.\n",
    "\n",
    "3.The mean time spent on the landing page is approximately 5.4 mins.\n",
    "\n",
    "4.The median time spent on the landing page is 5.4 mins."
   ]
  },
  {
   "cell_type": "code",
   "execution_count": 14,
   "id": "6ed318e9",
   "metadata": {},
   "outputs": [
    {
     "data": {
      "text/html": [
       "<div>\n",
       "<style scoped>\n",
       "    .dataframe tbody tr th:only-of-type {\n",
       "        vertical-align: middle;\n",
       "    }\n",
       "\n",
       "    .dataframe tbody tr th {\n",
       "        vertical-align: top;\n",
       "    }\n",
       "\n",
       "    .dataframe thead th {\n",
       "        text-align: right;\n",
       "    }\n",
       "</style>\n",
       "<table border=\"1\" class=\"dataframe\">\n",
       "  <thead>\n",
       "    <tr style=\"text-align: right;\">\n",
       "      <th></th>\n",
       "      <th>count</th>\n",
       "      <th>unique</th>\n",
       "      <th>top</th>\n",
       "      <th>freq</th>\n",
       "    </tr>\n",
       "  </thead>\n",
       "  <tbody>\n",
       "    <tr>\n",
       "      <th>group</th>\n",
       "      <td>100</td>\n",
       "      <td>2</td>\n",
       "      <td>control</td>\n",
       "      <td>50</td>\n",
       "    </tr>\n",
       "    <tr>\n",
       "      <th>landing_page</th>\n",
       "      <td>100</td>\n",
       "      <td>2</td>\n",
       "      <td>new</td>\n",
       "      <td>50</td>\n",
       "    </tr>\n",
       "    <tr>\n",
       "      <th>converted</th>\n",
       "      <td>100</td>\n",
       "      <td>2</td>\n",
       "      <td>yes</td>\n",
       "      <td>54</td>\n",
       "    </tr>\n",
       "    <tr>\n",
       "      <th>language_preferred</th>\n",
       "      <td>100</td>\n",
       "      <td>3</td>\n",
       "      <td>French</td>\n",
       "      <td>34</td>\n",
       "    </tr>\n",
       "  </tbody>\n",
       "</table>\n",
       "</div>"
      ],
      "text/plain": [
       "                   count unique      top freq\n",
       "group                100      2  control   50\n",
       "landing_page         100      2      new   50\n",
       "converted            100      2      yes   54\n",
       "language_preferred   100      3   French   34"
      ]
     },
     "execution_count": 14,
     "metadata": {},
     "output_type": "execute_result"
    }
   ],
   "source": [
    "df.describe(include=['category']).T"
   ]
  },
  {
   "cell_type": "code",
   "execution_count": 15,
   "id": "f3883f60",
   "metadata": {},
   "outputs": [
    {
     "data": {
      "text/plain": [
       "control      50\n",
       "treatment    50\n",
       "Name: group, dtype: int64"
      ]
     },
     "execution_count": 15,
     "metadata": {},
     "output_type": "execute_result"
    }
   ],
   "source": [
    "df['group'].value_counts()"
   ]
  },
  {
   "cell_type": "code",
   "execution_count": 16,
   "id": "acca19db",
   "metadata": {},
   "outputs": [
    {
     "data": {
      "text/plain": [
       "new    50\n",
       "old    50\n",
       "Name: landing_page, dtype: int64"
      ]
     },
     "execution_count": 16,
     "metadata": {},
     "output_type": "execute_result"
    }
   ],
   "source": [
    "df['landing_page'].value_counts()"
   ]
  },
  {
   "cell_type": "code",
   "execution_count": 17,
   "id": "7382949c",
   "metadata": {},
   "outputs": [
    {
     "data": {
      "text/plain": [
       "yes    54\n",
       "no     46\n",
       "Name: converted, dtype: int64"
      ]
     },
     "execution_count": 17,
     "metadata": {},
     "output_type": "execute_result"
    }
   ],
   "source": [
    "df['converted'].value_counts()"
   ]
  },
  {
   "cell_type": "code",
   "execution_count": 18,
   "id": "f9237c5b",
   "metadata": {},
   "outputs": [
    {
     "data": {
      "text/plain": [
       "French     34\n",
       "Spanish    34\n",
       "English    32\n",
       "Name: language_preferred, dtype: int64"
      ]
     },
     "execution_count": 18,
     "metadata": {},
     "output_type": "execute_result"
    }
   ],
   "source": [
    "df['language_preferred'].value_counts()"
   ]
  },
  {
   "cell_type": "code",
   "execution_count": 19,
   "id": "429d6ad3",
   "metadata": {},
   "outputs": [
    {
     "data": {
      "text/plain": [
       "546560    1\n",
       "546473    1\n",
       "546483    1\n",
       "546482    1\n",
       "546481    1\n",
       "         ..\n",
       "546590    1\n",
       "546589    1\n",
       "546588    1\n",
       "546587    1\n",
       "546559    1\n",
       "Name: user_id, Length: 100, dtype: int64"
      ]
     },
     "execution_count": 19,
     "metadata": {},
     "output_type": "execute_result"
    }
   ],
   "source": [
    "df['user_id'].value_counts()"
   ]
  },
  {
   "cell_type": "markdown",
   "id": "b5115dc8",
   "metadata": {},
   "source": [
    "Observations\n",
    "\n",
    "There are 100 users in total.\n",
    "\n",
    "There are 2 groups named control and treatment and each group has 50 users.\n",
    "\n",
    "There are 2 landing_pages which are new and old.\n",
    "\n",
    "54 users got converted and 46 users do not get converted after visiting the landing page.\n",
    "\n",
    "There are 3 unique preferred languages - English, French, and Spanish."
   ]
  },
  {
   "cell_type": "markdown",
   "id": "68f3b2c9",
   "metadata": {
    "id": "68f3b2c9"
   },
   "source": [
    "### Univariate Analysis"
   ]
  },
  {
   "cell_type": "code",
   "execution_count": 20,
   "id": "1932d0f3",
   "metadata": {
    "id": "1932d0f3"
   },
   "outputs": [],
   "source": [
    "# function to plot a boxplot and a histogram along the same scale.\n",
    "\n",
    "\n",
    "def histogram_boxplot(data, feature, figsize=(12, 7), kde=False, bins=None):\n",
    "    \"\"\"\n",
    "    Boxplot and histogram combined\n",
    "\n",
    "    data: dataframe\n",
    "    feature: dataframe column\n",
    "    figsize: size of figure (default (12,7))\n",
    "    kde: whether to show the density curve (default False)\n",
    "    bins: number of bins for histogram (default None)\n",
    "    \"\"\"\n",
    "    f2, (ax_box2, ax_hist2) = plt.subplots(\n",
    "        nrows=2,  # Number of rows of the subplot grid= 2\n",
    "        sharex=True,  # x-axis will be shared among all subplots\n",
    "        gridspec_kw={\"height_ratios\": (0.25, 0.75)},\n",
    "        figsize=figsize,\n",
    "    )  # creating the 2 subplots\n",
    "    sns.boxplot(\n",
    "        data=data, x=feature, ax=ax_box2, showmeans=True, color=\"violet\"\n",
    "    )  # boxplot will be created and a star will indicate the mean value of the column\n",
    "    sns.histplot(\n",
    "        data=data, x=feature, kde=kde, ax=ax_hist2, bins=bins, palette=\"winter\"\n",
    "    ) if bins else sns.histplot(\n",
    "        data=data, x=feature, kde=kde, ax=ax_hist2\n",
    "    )  # For histogram\n",
    "    ax_hist2.axvline(\n",
    "        data[feature].mean(), color=\"green\", linestyle=\"--\"\n",
    "    )  # Add mean to the histogram\n",
    "    ax_hist2.axvline(\n",
    "        data[feature].median(), color=\"black\", linestyle=\"-\"\n",
    "    )  # Add median to the histogram"
   ]
  },
  {
   "cell_type": "code",
   "execution_count": 21,
   "id": "84ac0b67",
   "metadata": {},
   "outputs": [
    {
     "data": {
      "image/png": "[encoded data removed]",
      "text/plain": [
       "<Figure size 864x504 with 2 Axes>"
      ]
     },
     "metadata": {
      "needs_background": "light"
     },
     "output_type": "display_data"
    }
   ],
   "source": [
    "histogram_boxplot(df,\"time_spent_on_the_page\")"
   ]
  },
  {
   "cell_type": "markdown",
   "id": "2b5a4f2a",
   "metadata": {},
   "source": [
    "No outliers.\n",
    "\n",
    "Median and mean are almost on the sameline.\n",
    "\n",
    "Almost a normal distribution."
   ]
  },
  {
   "cell_type": "code",
   "execution_count": 22,
   "id": "2fce6350",
   "metadata": {
    "id": "2fce6350"
   },
   "outputs": [],
   "source": [
    "# function to create labeled barplots\n",
    "\n",
    "\n",
    "def labeled_barplot(data, feature, perc=False, n=None):\n",
    "    \"\"\"\n",
    "    Barplot with percentage at the top\n",
    "\n",
    "    data: dataframe\n",
    "    feature: dataframe column\n",
    "    perc: whether to display percentages instead of count (default is False)\n",
    "    n: displays the top n category levels (default is None, i.e., display all levels)\n",
    "    \"\"\"\n",
    "\n",
    "    total = len(data[feature])  # length of the column\n",
    "    count = data[feature].nunique()\n",
    "    if n is None:\n",
    "        plt.figure(figsize=(count + 1, 5))\n",
    "    else:\n",
    "        plt.figure(figsize=(n + 1, 5))\n",
    "\n",
    "    plt.xticks(rotation=90, fontsize=15)\n",
    "    ax = sns.countplot(data=data, x=feature, palette=\"Paired\", order=data[feature].value_counts().index[:n].sort_values())\n",
    "\n",
    "    for p in ax.patches:\n",
    "        if perc == True:\n",
    "            label = \"{:.1f}%\".format(100 * p.get_height() / total)  # percentage of each class of the category\n",
    "        else:\n",
    "            label = p.get_height()  # count of each level of the category\n",
    "\n",
    "        x = p.get_x() + p.get_width() / 2  # width of the plot\n",
    "        y = p.get_height()      # height of the plot\n",
    "\n",
    "        ax.annotate(label, (x, y), ha=\"center\", va=\"center\", size=12, xytext=(0, 5), textcoords=\"offset points\")  # annotate the percentage\n",
    "\n",
    "    plt.show()  # show the plot"
   ]
  },
  {
   "cell_type": "code",
   "execution_count": 23,
   "id": "e6f99481",
   "metadata": {
    "id": "e6f99481"
   },
   "outputs": [
    {
     "data": {
      "image/png": "[encoded data removed]",
      "text/plain": [
       "<Figure size 288x360 with 1 Axes>"
      ]
     },
     "metadata": {
      "needs_background": "light"
     },
     "output_type": "display_data"
    }
   ],
   "source": [
    "labeled_barplot(df, 'language_preferred', perc=True)"
   ]
  },
  {
   "cell_type": "code",
   "execution_count": 24,
   "id": "e64fc498",
   "metadata": {},
   "outputs": [
    {
     "data": {
      "image/png": "[encoded data removed]",
      "text/plain": [
       "<Figure size 216x360 with 1 Axes>"
      ]
     },
     "metadata": {
      "needs_background": "light"
     },
     "output_type": "display_data"
    }
   ],
   "source": [
    "labeled_barplot(df,'group',perc = True)"
   ]
  },
  {
   "cell_type": "code",
   "execution_count": 25,
   "id": "bc54fd3c",
   "metadata": {},
   "outputs": [
    {
     "data": {
      "image/png": "[encoded data removed]",
      "text/plain": [
       "<Figure size 216x360 with 1 Axes>"
      ]
     },
     "metadata": {
      "needs_background": "light"
     },
     "output_type": "display_data"
    }
   ],
   "source": [
    "labeled_barplot(df,'landing_page',perc = True)"
   ]
  },
  {
   "cell_type": "code",
   "execution_count": 26,
   "id": "0b9ba566",
   "metadata": {},
   "outputs": [
    {
     "data": {
      "image/png": "[encoded data removed]",
      "text/plain": [
       "<Figure size 216x360 with 1 Axes>"
      ]
     },
     "metadata": {
      "needs_background": "light"
     },
     "output_type": "display_data"
    }
   ],
   "source": [
    "labeled_barplot(df,'converted',perc = True)"
   ]
  },
  {
   "cell_type": "markdown",
   "id": "fad2de2f",
   "metadata": {
    "id": "fad2de2f"
   },
   "source": [
    "### Bivariate Analysis"
   ]
  },
  {
   "cell_type": "code",
   "execution_count": 27,
   "id": "58e9a1d0",
   "metadata": {
    "id": "58e9a1d0"
   },
   "outputs": [
    {
     "data": {
      "image/png": "[encoded data removed]",
      "text/plain": [
       "<Figure size 432x432 with 1 Axes>"
      ]
     },
     "metadata": {
      "needs_background": "light"
     },
     "output_type": "display_data"
    }
   ],
   "source": [
    "plt.figure(figsize=(6,6))\n",
    "sns.histplot(data = df, x = 'time_spent_on_the_page', hue = 'landing_page')\n",
    "plt.show()"
   ]
  },
  {
   "cell_type": "code",
   "execution_count": 28,
   "id": "699f3b3e",
   "metadata": {},
   "outputs": [
    {
     "data": {
      "image/png": "[encoded data removed]",
      "text/plain": [
       "<Figure size 432x432 with 1 Axes>"
      ]
     },
     "metadata": {
      "needs_background": "light"
     },
     "output_type": "display_data"
    }
   ],
   "source": [
    "plt.figure(figsize=(6,6))\n",
    "sns.histplot(data = df, x = 'time_spent_on_the_page', hue = 'converted')\n",
    "plt.show()"
   ]
  },
  {
   "cell_type": "code",
   "execution_count": 29,
   "id": "78a4b73f",
   "metadata": {},
   "outputs": [],
   "source": [
    "def histogram_boxplot(data, feature, figsize=(12, 7), kde=False, bins=None):\n",
    "    \"\"\"\n",
    "    Boxplot and histogram combined\n",
    "\n",
    "    data: dataframe\n",
    "    feature: dataframe column\n",
    "    figsize: size of figure (default (12,7))\n",
    "    kde: whether to show the density curve (default False)\n",
    "    bins: number of bins for histogram (default None)\n",
    "    \"\"\"\n",
    "    f2, (ax_box2, ax_hist2) = plt.subplots(\n",
    "        nrows=2,  # Number of rows of the subplot grid= 2\n",
    "        sharex=True,  # x-axis will be shared among all subplots\n",
    "        gridspec_kw={\"height_ratios\": (0.25, 0.75)},\n",
    "        figsize=figsize,\n",
    "    )  # creating the 2 subplots\n",
    "    sns.boxplot(\n",
    "        data=data, x=feature, ax=ax_box2, showmeans=True, color=\"violet\"\n",
    "    )  # boxplot will be created and a star will indicate the mean value of the column\n",
    "    sns.histplot(\n",
    "        data=data, x=feature, kde=kde, ax=ax_hist2, bins=bins, palette=\"winter\"\n",
    "    ) if bins else sns.histplot(\n",
    "        data=data, x=feature, kde=kde, ax=ax_hist2\n",
    "    )  # For histogram\n",
    "    ax_hist2.axvline(\n",
    "        data[feature].mean(), color=\"green\", linestyle=\"--\"\n",
    "    )  # Add mean to the histogram\n",
    "    ax_hist2.axvline(\n",
    "        data[feature].median(), color=\"black\", linestyle=\"-\"\n",
    "    )  # Add median to the histogram"
   ]
  },
  {
   "cell_type": "code",
   "execution_count": 30,
   "id": "871705f3",
   "metadata": {
    "scrolled": true
   },
   "outputs": [
    {
     "name": "stderr",
     "output_type": "stream",
     "text": [
      "C:\\Users\\chris\\anaconda3\\lib\\site-packages\\seaborn\\_decorators.py:36: FutureWarning: Pass the following variables as keyword args: x, y. From version 0.12, the only valid positional argument will be `data`, and passing other arguments without an explicit keyword will result in an error or misinterpretation.\n",
      "  warnings.warn(\n"
     ]
    },
    {
     "data": {
      "image/png": "[encoded data removed]",
      "text/plain": [
       "<Figure size 864x432 with 1 Axes>"
      ]
     },
     "metadata": {
      "needs_background": "light"
     },
     "output_type": "display_data"
    }
   ],
   "source": [
    "plt.figure(figsize=(12,6))           \n",
    "sns.boxplot(df['time_spent_on_the_page'],df['language_preferred'])\n",
    "plt.ylabel('language_preferred')\n",
    "plt.xlabel('time_spent_on_the_page')\n",
    "plt.show()"
   ]
  },
  {
   "cell_type": "markdown",
   "id": "352e2e25",
   "metadata": {},
   "source": [
    "### Landing page vs Time spent on the page"
   ]
  },
  {
   "cell_type": "code",
   "execution_count": 42,
   "id": "62eb01c8",
   "metadata": {},
   "outputs": [
    {
     "data": {
      "image/png": "[encoded data removed]",
      "text/plain": [
       "<Figure size 648x648 with 1 Axes>"
      ]
     },
     "metadata": {
      "needs_background": "light"
     },
     "output_type": "display_data"
    }
   ],
   "source": [
    "plt.figure(figsize=(9, 9))\n",
    "sns.boxplot(data = df, x = 'landing_page',y = 'time_spent_on_the_page')\n",
    "plt.show()"
   ]
  },
  {
   "cell_type": "markdown",
   "id": "65f1336c",
   "metadata": {},
   "source": [
    "### Conversion status vs Time spent on the page"
   ]
  },
  {
   "cell_type": "code",
   "execution_count": 43,
   "id": "177a219f",
   "metadata": {},
   "outputs": [
    {
     "data": {
      "image/png": "[encoded data removed]",
      "text/plain": [
       "<Figure size 648x648 with 1 Axes>"
      ]
     },
     "metadata": {
      "needs_background": "light"
     },
     "output_type": "display_data"
    }
   ],
   "source": [
    "plt.figure(figsize=(9, 9))\n",
    "sns.boxplot(data = df, x = 'converted',y = 'time_spent_on_the_page')\n",
    "plt.show()"
   ]
  },
  {
   "cell_type": "markdown",
   "id": "c752ad1b",
   "metadata": {},
   "source": [
    "Users who got converted seems to have spent more time on the page."
   ]
  },
  {
   "cell_type": "markdown",
   "id": "abc78d12",
   "metadata": {},
   "source": [
    "### Preferred language vs Time spent on the page"
   ]
  },
  {
   "cell_type": "code",
   "execution_count": 45,
   "id": "83a604fb",
   "metadata": {},
   "outputs": [
    {
     "data": {
      "image/png": "[encoded data removed]",
      "text/plain": [
       "<Figure size 648x648 with 1 Axes>"
      ]
     },
     "metadata": {
      "needs_background": "light"
     },
     "output_type": "display_data"
    }
   ],
   "source": [
    "plt.figure(figsize=(9, 9))\n",
    "sns.boxplot(data = df, x = 'language_preferred',y = 'time_spent_on_the_page')\n",
    "plt.show()"
   ]
  },
  {
   "cell_type": "markdown",
   "id": "f985a06a",
   "metadata": {},
   "source": [
    "Here only Spanish preferred page has outliers indicating people who stayed for less than a minute.\n",
    "\n",
    "The mean time spent for all 3 languages on the page were almost same.\n",
    "\n",
    "French preffering people had a wider range of time spent on the page when compared to the other languages.\n"
   ]
  },
  {
   "cell_type": "markdown",
   "id": "27906576",
   "metadata": {
    "id": "27906576"
   },
   "source": [
    "## 2. Do the users spend more time on the new landing page than the existing landing page? "
   ]
  },
  {
   "cell_type": "markdown",
   "id": "e5fdf0c8",
   "metadata": {
    "id": "e5fdf0c8"
   },
   "source": [
    "### Perform Visual Analysis"
   ]
  },
  {
   "cell_type": "code",
   "execution_count": 31,
   "id": "6eZJa41eg21n",
   "metadata": {
    "id": "6eZJa41eg21n"
   },
   "outputs": [
    {
     "data": {
      "image/png": "[encoded data removed]",
      "text/plain": [
       "<Figure size 720x576 with 1 Axes>"
      ]
     },
     "metadata": {
      "needs_background": "light"
     },
     "output_type": "display_data"
    }
   ],
   "source": [
    "plt.figure(figsize=(10,8))\n",
    "sns.boxplot(x = 'landing_page', y = 'time_spent_on_the_page', data = df)\n",
    "plt.show()"
   ]
  },
  {
   "cell_type": "markdown",
   "id": "69d138cb",
   "metadata": {},
   "source": [
    "From the above plot, it is observed that time spent on new page were greater than that spent on old page but with a less range."
   ]
  },
  {
   "cell_type": "code",
   "execution_count": 32,
   "id": "bced0545",
   "metadata": {},
   "outputs": [],
   "source": [
    "import scipy.stats as stats\n",
    "from scipy import stats\n",
    "from scipy.stats import ttest_1samp\n",
    "from scipy.stats import chi2_contingency"
   ]
  },
  {
   "cell_type": "markdown",
   "id": "56b3dafd",
   "metadata": {
    "id": "56b3dafd"
   },
   "source": [
    "### Step 1: Define the null and alternate hypotheses"
   ]
  },
  {
   "cell_type": "markdown",
   "id": "d2ac77ef",
   "metadata": {
    "id": "d2ac77ef"
   },
   "source": [
    "$H_0$ : Time spent by users on the new page is equal to the mean time spent by users on the old page.\n",
    "       \n",
    "$H_a$ : Time spent by users on the new page is greater than the mean time spent by users on the old page .\n",
    "\n",
    "Let $\\mu_1, \\mu_2$ be the mean time spent by users on the new and old page respectively.\n",
    "\n",
    "We will test the null hypothesis\n",
    "\n",
    ">$H_0:\\mu_1=\\mu_2$\n",
    "\n",
    "against the alternate hypothesis\n",
    "\n",
    ">$H_a:\\mu_1>\\mu_2$"
   ]
  },
  {
   "cell_type": "markdown",
   "id": "c7ee4907",
   "metadata": {
    "id": "c7ee4907"
   },
   "source": [
    "### Step 2: Select Appropriate test"
   ]
  },
  {
   "cell_type": "markdown",
   "id": "283bf725",
   "metadata": {},
   "source": [
    "This is a one-tailed test concerning two population means from two independent populations. The population standard deviations are unknown. **Based on this information, we select the appropriate test**. So, we go ahead with sample independent t-test for this problem."
   ]
  },
  {
   "cell_type": "markdown",
   "id": "3f58c9a7",
   "metadata": {
    "id": "3f58c9a7"
   },
   "source": [
    "### Step 3: Decide the significance level"
   ]
  },
  {
   "cell_type": "markdown",
   "id": "92d7d7ee",
   "metadata": {
    "id": "92d7d7ee"
   },
   "source": [
    "Consider a significance level of 0.05 for all tests.\n",
    " $\\alpha$ = 0.05"
   ]
  },
  {
   "cell_type": "markdown",
   "id": "5fed2eac",
   "metadata": {
    "id": "5fed2eac"
   },
   "source": [
    "### Step 4: Collect and prepare data"
   ]
  },
  {
   "cell_type": "code",
   "execution_count": 121,
   "id": "d825f991",
   "metadata": {},
   "outputs": [
    {
     "data": {
      "text/html": [
       "<div>\n",
       "<style scoped>\n",
       "    .dataframe tbody tr th:only-of-type {\n",
       "        vertical-align: middle;\n",
       "    }\n",
       "\n",
       "    .dataframe tbody tr th {\n",
       "        vertical-align: top;\n",
       "    }\n",
       "\n",
       "    .dataframe thead th {\n",
       "        text-align: right;\n",
       "    }\n",
       "</style>\n",
       "<table border=\"1\" class=\"dataframe\">\n",
       "  <thead>\n",
       "    <tr style=\"text-align: right;\">\n",
       "      <th></th>\n",
       "      <th>user_id</th>\n",
       "      <th>group</th>\n",
       "      <th>landing_page</th>\n",
       "      <th>time_spent_on_the_page</th>\n",
       "      <th>converted</th>\n",
       "      <th>language_preferred</th>\n",
       "    </tr>\n",
       "  </thead>\n",
       "  <tbody>\n",
       "    <tr>\n",
       "      <th>1</th>\n",
       "      <td>546468</td>\n",
       "      <td>treatment</td>\n",
       "      <td>new</td>\n",
       "      <td>7.13</td>\n",
       "      <td>yes</td>\n",
       "      <td>English</td>\n",
       "    </tr>\n",
       "    <tr>\n",
       "      <th>2</th>\n",
       "      <td>546462</td>\n",
       "      <td>treatment</td>\n",
       "      <td>new</td>\n",
       "      <td>4.40</td>\n",
       "      <td>no</td>\n",
       "      <td>Spanish</td>\n",
       "    </tr>\n",
       "    <tr>\n",
       "      <th>4</th>\n",
       "      <td>546459</td>\n",
       "      <td>treatment</td>\n",
       "      <td>new</td>\n",
       "      <td>4.75</td>\n",
       "      <td>yes</td>\n",
       "      <td>Spanish</td>\n",
       "    </tr>\n",
       "    <tr>\n",
       "      <th>6</th>\n",
       "      <td>546448</td>\n",
       "      <td>treatment</td>\n",
       "      <td>new</td>\n",
       "      <td>5.25</td>\n",
       "      <td>yes</td>\n",
       "      <td>French</td>\n",
       "    </tr>\n",
       "    <tr>\n",
       "      <th>8</th>\n",
       "      <td>546461</td>\n",
       "      <td>treatment</td>\n",
       "      <td>new</td>\n",
       "      <td>10.71</td>\n",
       "      <td>yes</td>\n",
       "      <td>French</td>\n",
       "    </tr>\n",
       "    <tr>\n",
       "      <th>12</th>\n",
       "      <td>546491</td>\n",
       "      <td>treatment</td>\n",
       "      <td>new</td>\n",
       "      <td>5.86</td>\n",
       "      <td>yes</td>\n",
       "      <td>Spanish</td>\n",
       "    </tr>\n",
       "    <tr>\n",
       "      <th>13</th>\n",
       "      <td>546478</td>\n",
       "      <td>treatment</td>\n",
       "      <td>new</td>\n",
       "      <td>6.03</td>\n",
       "      <td>yes</td>\n",
       "      <td>French</td>\n",
       "    </tr>\n",
       "    <tr>\n",
       "      <th>15</th>\n",
       "      <td>546466</td>\n",
       "      <td>treatment</td>\n",
       "      <td>new</td>\n",
       "      <td>6.27</td>\n",
       "      <td>yes</td>\n",
       "      <td>Spanish</td>\n",
       "    </tr>\n",
       "    <tr>\n",
       "      <th>16</th>\n",
       "      <td>546443</td>\n",
       "      <td>treatment</td>\n",
       "      <td>new</td>\n",
       "      <td>8.73</td>\n",
       "      <td>no</td>\n",
       "      <td>English</td>\n",
       "    </tr>\n",
       "    <tr>\n",
       "      <th>22</th>\n",
       "      <td>546450</td>\n",
       "      <td>treatment</td>\n",
       "      <td>new</td>\n",
       "      <td>3.65</td>\n",
       "      <td>no</td>\n",
       "      <td>English</td>\n",
       "    </tr>\n",
       "    <tr>\n",
       "      <th>23</th>\n",
       "      <td>546475</td>\n",
       "      <td>treatment</td>\n",
       "      <td>new</td>\n",
       "      <td>7.02</td>\n",
       "      <td>yes</td>\n",
       "      <td>English</td>\n",
       "    </tr>\n",
       "    <tr>\n",
       "      <th>24</th>\n",
       "      <td>546456</td>\n",
       "      <td>treatment</td>\n",
       "      <td>new</td>\n",
       "      <td>6.18</td>\n",
       "      <td>no</td>\n",
       "      <td>Spanish</td>\n",
       "    </tr>\n",
       "    <tr>\n",
       "      <th>25</th>\n",
       "      <td>546455</td>\n",
       "      <td>treatment</td>\n",
       "      <td>new</td>\n",
       "      <td>4.39</td>\n",
       "      <td>no</td>\n",
       "      <td>English</td>\n",
       "    </tr>\n",
       "    <tr>\n",
       "      <th>26</th>\n",
       "      <td>546469</td>\n",
       "      <td>treatment</td>\n",
       "      <td>new</td>\n",
       "      <td>9.49</td>\n",
       "      <td>yes</td>\n",
       "      <td>English</td>\n",
       "    </tr>\n",
       "    <tr>\n",
       "      <th>28</th>\n",
       "      <td>546471</td>\n",
       "      <td>treatment</td>\n",
       "      <td>new</td>\n",
       "      <td>7.81</td>\n",
       "      <td>yes</td>\n",
       "      <td>French</td>\n",
       "    </tr>\n",
       "    <tr>\n",
       "      <th>30</th>\n",
       "      <td>546464</td>\n",
       "      <td>treatment</td>\n",
       "      <td>new</td>\n",
       "      <td>5.41</td>\n",
       "      <td>yes</td>\n",
       "      <td>English</td>\n",
       "    </tr>\n",
       "    <tr>\n",
       "      <th>38</th>\n",
       "      <td>546487</td>\n",
       "      <td>treatment</td>\n",
       "      <td>new</td>\n",
       "      <td>1.65</td>\n",
       "      <td>no</td>\n",
       "      <td>Spanish</td>\n",
       "    </tr>\n",
       "    <tr>\n",
       "      <th>42</th>\n",
       "      <td>546489</td>\n",
       "      <td>treatment</td>\n",
       "      <td>new</td>\n",
       "      <td>7.16</td>\n",
       "      <td>yes</td>\n",
       "      <td>Spanish</td>\n",
       "    </tr>\n",
       "    <tr>\n",
       "      <th>43</th>\n",
       "      <td>546453</td>\n",
       "      <td>treatment</td>\n",
       "      <td>new</td>\n",
       "      <td>7.16</td>\n",
       "      <td>yes</td>\n",
       "      <td>English</td>\n",
       "    </tr>\n",
       "    <tr>\n",
       "      <th>44</th>\n",
       "      <td>546488</td>\n",
       "      <td>treatment</td>\n",
       "      <td>new</td>\n",
       "      <td>3.91</td>\n",
       "      <td>no</td>\n",
       "      <td>English</td>\n",
       "    </tr>\n",
       "    <tr>\n",
       "      <th>46</th>\n",
       "      <td>546460</td>\n",
       "      <td>treatment</td>\n",
       "      <td>new</td>\n",
       "      <td>5.37</td>\n",
       "      <td>yes</td>\n",
       "      <td>French</td>\n",
       "    </tr>\n",
       "    <tr>\n",
       "      <th>47</th>\n",
       "      <td>546458</td>\n",
       "      <td>treatment</td>\n",
       "      <td>new</td>\n",
       "      <td>7.23</td>\n",
       "      <td>yes</td>\n",
       "      <td>Spanish</td>\n",
       "    </tr>\n",
       "    <tr>\n",
       "      <th>48</th>\n",
       "      <td>546492</td>\n",
       "      <td>treatment</td>\n",
       "      <td>new</td>\n",
       "      <td>8.08</td>\n",
       "      <td>yes</td>\n",
       "      <td>Spanish</td>\n",
       "    </tr>\n",
       "    <tr>\n",
       "      <th>49</th>\n",
       "      <td>546473</td>\n",
       "      <td>treatment</td>\n",
       "      <td>new</td>\n",
       "      <td>10.50</td>\n",
       "      <td>yes</td>\n",
       "      <td>English</td>\n",
       "    </tr>\n",
       "    <tr>\n",
       "      <th>51</th>\n",
       "      <td>546457</td>\n",
       "      <td>treatment</td>\n",
       "      <td>new</td>\n",
       "      <td>5.65</td>\n",
       "      <td>no</td>\n",
       "      <td>English</td>\n",
       "    </tr>\n",
       "    <tr>\n",
       "      <th>52</th>\n",
       "      <td>546479</td>\n",
       "      <td>treatment</td>\n",
       "      <td>new</td>\n",
       "      <td>6.47</td>\n",
       "      <td>yes</td>\n",
       "      <td>Spanish</td>\n",
       "    </tr>\n",
       "    <tr>\n",
       "      <th>54</th>\n",
       "      <td>546482</td>\n",
       "      <td>treatment</td>\n",
       "      <td>new</td>\n",
       "      <td>6.41</td>\n",
       "      <td>yes</td>\n",
       "      <td>Spanish</td>\n",
       "    </tr>\n",
       "    <tr>\n",
       "      <th>57</th>\n",
       "      <td>546454</td>\n",
       "      <td>treatment</td>\n",
       "      <td>new</td>\n",
       "      <td>8.30</td>\n",
       "      <td>yes</td>\n",
       "      <td>French</td>\n",
       "    </tr>\n",
       "    <tr>\n",
       "      <th>60</th>\n",
       "      <td>546470</td>\n",
       "      <td>treatment</td>\n",
       "      <td>new</td>\n",
       "      <td>6.01</td>\n",
       "      <td>yes</td>\n",
       "      <td>French</td>\n",
       "    </tr>\n",
       "    <tr>\n",
       "      <th>61</th>\n",
       "      <td>546467</td>\n",
       "      <td>treatment</td>\n",
       "      <td>new</td>\n",
       "      <td>6.79</td>\n",
       "      <td>yes</td>\n",
       "      <td>French</td>\n",
       "    </tr>\n",
       "    <tr>\n",
       "      <th>65</th>\n",
       "      <td>546445</td>\n",
       "      <td>treatment</td>\n",
       "      <td>new</td>\n",
       "      <td>7.27</td>\n",
       "      <td>yes</td>\n",
       "      <td>French</td>\n",
       "    </tr>\n",
       "    <tr>\n",
       "      <th>68</th>\n",
       "      <td>546484</td>\n",
       "      <td>treatment</td>\n",
       "      <td>new</td>\n",
       "      <td>6.70</td>\n",
       "      <td>no</td>\n",
       "      <td>Spanish</td>\n",
       "    </tr>\n",
       "    <tr>\n",
       "      <th>71</th>\n",
       "      <td>546476</td>\n",
       "      <td>treatment</td>\n",
       "      <td>new</td>\n",
       "      <td>5.42</td>\n",
       "      <td>yes</td>\n",
       "      <td>French</td>\n",
       "    </tr>\n",
       "    <tr>\n",
       "      <th>72</th>\n",
       "      <td>546452</td>\n",
       "      <td>treatment</td>\n",
       "      <td>new</td>\n",
       "      <td>5.08</td>\n",
       "      <td>yes</td>\n",
       "      <td>English</td>\n",
       "    </tr>\n",
       "    <tr>\n",
       "      <th>73</th>\n",
       "      <td>546444</td>\n",
       "      <td>treatment</td>\n",
       "      <td>new</td>\n",
       "      <td>7.46</td>\n",
       "      <td>yes</td>\n",
       "      <td>English</td>\n",
       "    </tr>\n",
       "    <tr>\n",
       "      <th>77</th>\n",
       "      <td>546485</td>\n",
       "      <td>treatment</td>\n",
       "      <td>new</td>\n",
       "      <td>3.88</td>\n",
       "      <td>no</td>\n",
       "      <td>Spanish</td>\n",
       "    </tr>\n",
       "    <tr>\n",
       "      <th>78</th>\n",
       "      <td>546486</td>\n",
       "      <td>treatment</td>\n",
       "      <td>new</td>\n",
       "      <td>9.12</td>\n",
       "      <td>yes</td>\n",
       "      <td>French</td>\n",
       "    </tr>\n",
       "    <tr>\n",
       "      <th>80</th>\n",
       "      <td>546490</td>\n",
       "      <td>treatment</td>\n",
       "      <td>new</td>\n",
       "      <td>4.68</td>\n",
       "      <td>no</td>\n",
       "      <td>French</td>\n",
       "    </tr>\n",
       "    <tr>\n",
       "      <th>81</th>\n",
       "      <td>546449</td>\n",
       "      <td>treatment</td>\n",
       "      <td>new</td>\n",
       "      <td>5.26</td>\n",
       "      <td>yes</td>\n",
       "      <td>French</td>\n",
       "    </tr>\n",
       "    <tr>\n",
       "      <th>82</th>\n",
       "      <td>546463</td>\n",
       "      <td>treatment</td>\n",
       "      <td>new</td>\n",
       "      <td>5.74</td>\n",
       "      <td>yes</td>\n",
       "      <td>Spanish</td>\n",
       "    </tr>\n",
       "    <tr>\n",
       "      <th>86</th>\n",
       "      <td>546465</td>\n",
       "      <td>treatment</td>\n",
       "      <td>new</td>\n",
       "      <td>6.71</td>\n",
       "      <td>no</td>\n",
       "      <td>English</td>\n",
       "    </tr>\n",
       "    <tr>\n",
       "      <th>87</th>\n",
       "      <td>546480</td>\n",
       "      <td>treatment</td>\n",
       "      <td>new</td>\n",
       "      <td>3.68</td>\n",
       "      <td>no</td>\n",
       "      <td>French</td>\n",
       "    </tr>\n",
       "    <tr>\n",
       "      <th>88</th>\n",
       "      <td>546447</td>\n",
       "      <td>treatment</td>\n",
       "      <td>new</td>\n",
       "      <td>3.30</td>\n",
       "      <td>no</td>\n",
       "      <td>French</td>\n",
       "    </tr>\n",
       "    <tr>\n",
       "      <th>90</th>\n",
       "      <td>546477</td>\n",
       "      <td>treatment</td>\n",
       "      <td>new</td>\n",
       "      <td>5.40</td>\n",
       "      <td>no</td>\n",
       "      <td>French</td>\n",
       "    </tr>\n",
       "    <tr>\n",
       "      <th>91</th>\n",
       "      <td>546451</td>\n",
       "      <td>treatment</td>\n",
       "      <td>new</td>\n",
       "      <td>8.47</td>\n",
       "      <td>yes</td>\n",
       "      <td>English</td>\n",
       "    </tr>\n",
       "    <tr>\n",
       "      <th>93</th>\n",
       "      <td>546474</td>\n",
       "      <td>treatment</td>\n",
       "      <td>new</td>\n",
       "      <td>4.94</td>\n",
       "      <td>no</td>\n",
       "      <td>French</td>\n",
       "    </tr>\n",
       "    <tr>\n",
       "      <th>95</th>\n",
       "      <td>546446</td>\n",
       "      <td>treatment</td>\n",
       "      <td>new</td>\n",
       "      <td>5.15</td>\n",
       "      <td>no</td>\n",
       "      <td>Spanish</td>\n",
       "    </tr>\n",
       "    <tr>\n",
       "      <th>97</th>\n",
       "      <td>546472</td>\n",
       "      <td>treatment</td>\n",
       "      <td>new</td>\n",
       "      <td>7.07</td>\n",
       "      <td>yes</td>\n",
       "      <td>Spanish</td>\n",
       "    </tr>\n",
       "    <tr>\n",
       "      <th>98</th>\n",
       "      <td>546481</td>\n",
       "      <td>treatment</td>\n",
       "      <td>new</td>\n",
       "      <td>6.20</td>\n",
       "      <td>yes</td>\n",
       "      <td>Spanish</td>\n",
       "    </tr>\n",
       "    <tr>\n",
       "      <th>99</th>\n",
       "      <td>546483</td>\n",
       "      <td>treatment</td>\n",
       "      <td>new</td>\n",
       "      <td>5.86</td>\n",
       "      <td>yes</td>\n",
       "      <td>English</td>\n",
       "    </tr>\n",
       "  </tbody>\n",
       "</table>\n",
       "</div>"
      ],
      "text/plain": [
       "    user_id      group landing_page  time_spent_on_the_page converted  \\\n",
       "1    546468  treatment          new                    7.13       yes   \n",
       "2    546462  treatment          new                    4.40        no   \n",
       "4    546459  treatment          new                    4.75       yes   \n",
       "6    546448  treatment          new                    5.25       yes   \n",
       "8    546461  treatment          new                   10.71       yes   \n",
       "12   546491  treatment          new                    5.86       yes   \n",
       "13   546478  treatment          new                    6.03       yes   \n",
       "15   546466  treatment          new                    6.27       yes   \n",
       "16   546443  treatment          new                    8.73        no   \n",
       "22   546450  treatment          new                    3.65        no   \n",
       "23   546475  treatment          new                    7.02       yes   \n",
       "24   546456  treatment          new                    6.18        no   \n",
       "25   546455  treatment          new                    4.39        no   \n",
       "26   546469  treatment          new                    9.49       yes   \n",
       "28   546471  treatment          new                    7.81       yes   \n",
       "30   546464  treatment          new                    5.41       yes   \n",
       "38   546487  treatment          new                    1.65        no   \n",
       "42   546489  treatment          new                    7.16       yes   \n",
       "43   546453  treatment          new                    7.16       yes   \n",
       "44   546488  treatment          new                    3.91        no   \n",
       "46   546460  treatment          new                    5.37       yes   \n",
       "47   546458  treatment          new                    7.23       yes   \n",
       "48   546492  treatment          new                    8.08       yes   \n",
       "49   546473  treatment          new                   10.50       yes   \n",
       "51   546457  treatment          new                    5.65        no   \n",
       "52   546479  treatment          new                    6.47       yes   \n",
       "54   546482  treatment          new                    6.41       yes   \n",
       "57   546454  treatment          new                    8.30       yes   \n",
       "60   546470  treatment          new                    6.01       yes   \n",
       "61   546467  treatment          new                    6.79       yes   \n",
       "65   546445  treatment          new                    7.27       yes   \n",
       "68   546484  treatment          new                    6.70        no   \n",
       "71   546476  treatment          new                    5.42       yes   \n",
       "72   546452  treatment          new                    5.08       yes   \n",
       "73   546444  treatment          new                    7.46       yes   \n",
       "77   546485  treatment          new                    3.88        no   \n",
       "78   546486  treatment          new                    9.12       yes   \n",
       "80   546490  treatment          new                    4.68        no   \n",
       "81   546449  treatment          new                    5.26       yes   \n",
       "82   546463  treatment          new                    5.74       yes   \n",
       "86   546465  treatment          new                    6.71        no   \n",
       "87   546480  treatment          new                    3.68        no   \n",
       "88   546447  treatment          new                    3.30        no   \n",
       "90   546477  treatment          new                    5.40        no   \n",
       "91   546451  treatment          new                    8.47       yes   \n",
       "93   546474  treatment          new                    4.94        no   \n",
       "95   546446  treatment          new                    5.15        no   \n",
       "97   546472  treatment          new                    7.07       yes   \n",
       "98   546481  treatment          new                    6.20       yes   \n",
       "99   546483  treatment          new                    5.86       yes   \n",
       "\n",
       "   language_preferred  \n",
       "1             English  \n",
       "2             Spanish  \n",
       "4             Spanish  \n",
       "6              French  \n",
       "8              French  \n",
       "12            Spanish  \n",
       "13             French  \n",
       "15            Spanish  \n",
       "16            English  \n",
       "22            English  \n",
       "23            English  \n",
       "24            Spanish  \n",
       "25            English  \n",
       "26            English  \n",
       "28             French  \n",
       "30            English  \n",
       "38            Spanish  \n",
       "42            Spanish  \n",
       "43            English  \n",
       "44            English  \n",
       "46             French  \n",
       "47            Spanish  \n",
       "48            Spanish  \n",
       "49            English  \n",
       "51            English  \n",
       "52            Spanish  \n",
       "54            Spanish  \n",
       "57             French  \n",
       "60             French  \n",
       "61             French  \n",
       "65             French  \n",
       "68            Spanish  \n",
       "71             French  \n",
       "72            English  \n",
       "73            English  \n",
       "77            Spanish  \n",
       "78             French  \n",
       "80             French  \n",
       "81             French  \n",
       "82            Spanish  \n",
       "86            English  \n",
       "87             French  \n",
       "88             French  \n",
       "90             French  \n",
       "91            English  \n",
       "93             French  \n",
       "95            Spanish  \n",
       "97            Spanish  \n",
       "98            Spanish  \n",
       "99            English  "
      ]
     },
     "execution_count": 121,
     "metadata": {},
     "output_type": "execute_result"
    }
   ],
   "source": [
    "time_spent_new = df[df['landing_page'] == 'new']\n",
    "time_spent_new"
   ]
  },
  {
   "cell_type": "code",
   "execution_count": 122,
   "id": "f5a59495",
   "metadata": {
    "id": "f5a59495"
   },
   "outputs": [
    {
     "data": {
      "text/plain": [
       "1      7.13\n",
       "2      4.40\n",
       "4      4.75\n",
       "6      5.25\n",
       "8     10.71\n",
       "12     5.86\n",
       "13     6.03\n",
       "15     6.27\n",
       "16     8.73\n",
       "22     3.65\n",
       "23     7.02\n",
       "24     6.18\n",
       "25     4.39\n",
       "26     9.49\n",
       "28     7.81\n",
       "30     5.41\n",
       "38     1.65\n",
       "42     7.16\n",
       "43     7.16\n",
       "44     3.91\n",
       "46     5.37\n",
       "47     7.23\n",
       "48     8.08\n",
       "49    10.50\n",
       "51     5.65\n",
       "52     6.47\n",
       "54     6.41\n",
       "57     8.30\n",
       "60     6.01\n",
       "61     6.79\n",
       "65     7.27\n",
       "68     6.70\n",
       "71     5.42\n",
       "72     5.08\n",
       "73     7.46\n",
       "77     3.88\n",
       "78     9.12\n",
       "80     4.68\n",
       "81     5.26\n",
       "82     5.74\n",
       "86     6.71\n",
       "87     3.68\n",
       "88     3.30\n",
       "90     5.40\n",
       "91     8.47\n",
       "93     4.94\n",
       "95     5.15\n",
       "97     7.07\n",
       "98     6.20\n",
       "99     5.86\n",
       "Name: time_spent_on_the_page, dtype: float64"
      ]
     },
     "execution_count": 122,
     "metadata": {},
     "output_type": "execute_result"
    }
   ],
   "source": [
    "time_spent_new = df[df['landing_page'] == 'new']['time_spent_on_the_page']\n",
    "time_spent_new"
   ]
  },
  {
   "cell_type": "code",
   "execution_count": 123,
   "id": "9fcbd26e",
   "metadata": {},
   "outputs": [
    {
     "data": {
      "text/html": [
       "<div>\n",
       "<style scoped>\n",
       "    .dataframe tbody tr th:only-of-type {\n",
       "        vertical-align: middle;\n",
       "    }\n",
       "\n",
       "    .dataframe tbody tr th {\n",
       "        vertical-align: top;\n",
       "    }\n",
       "\n",
       "    .dataframe thead th {\n",
       "        text-align: right;\n",
       "    }\n",
       "</style>\n",
       "<table border=\"1\" class=\"dataframe\">\n",
       "  <thead>\n",
       "    <tr style=\"text-align: right;\">\n",
       "      <th></th>\n",
       "      <th>user_id</th>\n",
       "      <th>group</th>\n",
       "      <th>landing_page</th>\n",
       "      <th>time_spent_on_the_page</th>\n",
       "      <th>converted</th>\n",
       "      <th>language_preferred</th>\n",
       "    </tr>\n",
       "  </thead>\n",
       "  <tbody>\n",
       "    <tr>\n",
       "      <th>0</th>\n",
       "      <td>546592</td>\n",
       "      <td>control</td>\n",
       "      <td>old</td>\n",
       "      <td>3.48</td>\n",
       "      <td>no</td>\n",
       "      <td>Spanish</td>\n",
       "    </tr>\n",
       "    <tr>\n",
       "      <th>3</th>\n",
       "      <td>546567</td>\n",
       "      <td>control</td>\n",
       "      <td>old</td>\n",
       "      <td>3.02</td>\n",
       "      <td>no</td>\n",
       "      <td>French</td>\n",
       "    </tr>\n",
       "    <tr>\n",
       "      <th>5</th>\n",
       "      <td>546558</td>\n",
       "      <td>control</td>\n",
       "      <td>old</td>\n",
       "      <td>5.28</td>\n",
       "      <td>yes</td>\n",
       "      <td>English</td>\n",
       "    </tr>\n",
       "    <tr>\n",
       "      <th>7</th>\n",
       "      <td>546581</td>\n",
       "      <td>control</td>\n",
       "      <td>old</td>\n",
       "      <td>6.53</td>\n",
       "      <td>yes</td>\n",
       "      <td>Spanish</td>\n",
       "    </tr>\n",
       "    <tr>\n",
       "      <th>9</th>\n",
       "      <td>546548</td>\n",
       "      <td>control</td>\n",
       "      <td>old</td>\n",
       "      <td>2.08</td>\n",
       "      <td>no</td>\n",
       "      <td>English</td>\n",
       "    </tr>\n",
       "    <tr>\n",
       "      <th>10</th>\n",
       "      <td>546588</td>\n",
       "      <td>control</td>\n",
       "      <td>old</td>\n",
       "      <td>6.21</td>\n",
       "      <td>yes</td>\n",
       "      <td>Spanish</td>\n",
       "    </tr>\n",
       "    <tr>\n",
       "      <th>11</th>\n",
       "      <td>546546</td>\n",
       "      <td>control</td>\n",
       "      <td>old</td>\n",
       "      <td>2.58</td>\n",
       "      <td>yes</td>\n",
       "      <td>English</td>\n",
       "    </tr>\n",
       "    <tr>\n",
       "      <th>14</th>\n",
       "      <td>546578</td>\n",
       "      <td>control</td>\n",
       "      <td>old</td>\n",
       "      <td>8.72</td>\n",
       "      <td>yes</td>\n",
       "      <td>Spanish</td>\n",
       "    </tr>\n",
       "    <tr>\n",
       "      <th>17</th>\n",
       "      <td>546555</td>\n",
       "      <td>control</td>\n",
       "      <td>old</td>\n",
       "      <td>0.40</td>\n",
       "      <td>no</td>\n",
       "      <td>English</td>\n",
       "    </tr>\n",
       "    <tr>\n",
       "      <th>18</th>\n",
       "      <td>546493</td>\n",
       "      <td>control</td>\n",
       "      <td>old</td>\n",
       "      <td>10.30</td>\n",
       "      <td>yes</td>\n",
       "      <td>English</td>\n",
       "    </tr>\n",
       "    <tr>\n",
       "      <th>19</th>\n",
       "      <td>546549</td>\n",
       "      <td>control</td>\n",
       "      <td>old</td>\n",
       "      <td>3.88</td>\n",
       "      <td>yes</td>\n",
       "      <td>English</td>\n",
       "    </tr>\n",
       "    <tr>\n",
       "      <th>20</th>\n",
       "      <td>546560</td>\n",
       "      <td>control</td>\n",
       "      <td>old</td>\n",
       "      <td>2.66</td>\n",
       "      <td>no</td>\n",
       "      <td>French</td>\n",
       "    </tr>\n",
       "    <tr>\n",
       "      <th>21</th>\n",
       "      <td>546584</td>\n",
       "      <td>control</td>\n",
       "      <td>old</td>\n",
       "      <td>7.03</td>\n",
       "      <td>yes</td>\n",
       "      <td>Spanish</td>\n",
       "    </tr>\n",
       "    <tr>\n",
       "      <th>27</th>\n",
       "      <td>546586</td>\n",
       "      <td>control</td>\n",
       "      <td>old</td>\n",
       "      <td>4.05</td>\n",
       "      <td>no</td>\n",
       "      <td>Spanish</td>\n",
       "    </tr>\n",
       "    <tr>\n",
       "      <th>29</th>\n",
       "      <td>546575</td>\n",
       "      <td>control</td>\n",
       "      <td>old</td>\n",
       "      <td>4.28</td>\n",
       "      <td>no</td>\n",
       "      <td>French</td>\n",
       "    </tr>\n",
       "    <tr>\n",
       "      <th>31</th>\n",
       "      <td>546556</td>\n",
       "      <td>control</td>\n",
       "      <td>old</td>\n",
       "      <td>3.52</td>\n",
       "      <td>yes</td>\n",
       "      <td>English</td>\n",
       "    </tr>\n",
       "    <tr>\n",
       "      <th>32</th>\n",
       "      <td>546585</td>\n",
       "      <td>control</td>\n",
       "      <td>old</td>\n",
       "      <td>5.39</td>\n",
       "      <td>yes</td>\n",
       "      <td>Spanish</td>\n",
       "    </tr>\n",
       "    <tr>\n",
       "      <th>33</th>\n",
       "      <td>546577</td>\n",
       "      <td>control</td>\n",
       "      <td>old</td>\n",
       "      <td>4.52</td>\n",
       "      <td>no</td>\n",
       "      <td>Spanish</td>\n",
       "    </tr>\n",
       "    <tr>\n",
       "      <th>34</th>\n",
       "      <td>546587</td>\n",
       "      <td>control</td>\n",
       "      <td>old</td>\n",
       "      <td>4.46</td>\n",
       "      <td>no</td>\n",
       "      <td>Spanish</td>\n",
       "    </tr>\n",
       "    <tr>\n",
       "      <th>35</th>\n",
       "      <td>546552</td>\n",
       "      <td>control</td>\n",
       "      <td>old</td>\n",
       "      <td>8.50</td>\n",
       "      <td>yes</td>\n",
       "      <td>English</td>\n",
       "    </tr>\n",
       "    <tr>\n",
       "      <th>36</th>\n",
       "      <td>546551</td>\n",
       "      <td>control</td>\n",
       "      <td>old</td>\n",
       "      <td>3.13</td>\n",
       "      <td>no</td>\n",
       "      <td>English</td>\n",
       "    </tr>\n",
       "    <tr>\n",
       "      <th>37</th>\n",
       "      <td>546557</td>\n",
       "      <td>control</td>\n",
       "      <td>old</td>\n",
       "      <td>6.04</td>\n",
       "      <td>yes</td>\n",
       "      <td>English</td>\n",
       "    </tr>\n",
       "    <tr>\n",
       "      <th>39</th>\n",
       "      <td>546589</td>\n",
       "      <td>control</td>\n",
       "      <td>old</td>\n",
       "      <td>0.19</td>\n",
       "      <td>no</td>\n",
       "      <td>Spanish</td>\n",
       "    </tr>\n",
       "    <tr>\n",
       "      <th>40</th>\n",
       "      <td>546559</td>\n",
       "      <td>control</td>\n",
       "      <td>old</td>\n",
       "      <td>8.46</td>\n",
       "      <td>yes</td>\n",
       "      <td>French</td>\n",
       "    </tr>\n",
       "    <tr>\n",
       "      <th>41</th>\n",
       "      <td>546570</td>\n",
       "      <td>control</td>\n",
       "      <td>old</td>\n",
       "      <td>1.92</td>\n",
       "      <td>no</td>\n",
       "      <td>French</td>\n",
       "    </tr>\n",
       "    <tr>\n",
       "      <th>45</th>\n",
       "      <td>546565</td>\n",
       "      <td>control</td>\n",
       "      <td>old</td>\n",
       "      <td>8.02</td>\n",
       "      <td>no</td>\n",
       "      <td>French</td>\n",
       "    </tr>\n",
       "    <tr>\n",
       "      <th>50</th>\n",
       "      <td>546554</td>\n",
       "      <td>control</td>\n",
       "      <td>old</td>\n",
       "      <td>0.22</td>\n",
       "      <td>no</td>\n",
       "      <td>English</td>\n",
       "    </tr>\n",
       "    <tr>\n",
       "      <th>53</th>\n",
       "      <td>546576</td>\n",
       "      <td>control</td>\n",
       "      <td>old</td>\n",
       "      <td>4.71</td>\n",
       "      <td>no</td>\n",
       "      <td>Spanish</td>\n",
       "    </tr>\n",
       "    <tr>\n",
       "      <th>55</th>\n",
       "      <td>546563</td>\n",
       "      <td>control</td>\n",
       "      <td>old</td>\n",
       "      <td>0.93</td>\n",
       "      <td>no</td>\n",
       "      <td>French</td>\n",
       "    </tr>\n",
       "    <tr>\n",
       "      <th>56</th>\n",
       "      <td>546569</td>\n",
       "      <td>control</td>\n",
       "      <td>old</td>\n",
       "      <td>1.81</td>\n",
       "      <td>no</td>\n",
       "      <td>French</td>\n",
       "    </tr>\n",
       "    <tr>\n",
       "      <th>58</th>\n",
       "      <td>546562</td>\n",
       "      <td>control</td>\n",
       "      <td>old</td>\n",
       "      <td>7.40</td>\n",
       "      <td>yes</td>\n",
       "      <td>French</td>\n",
       "    </tr>\n",
       "    <tr>\n",
       "      <th>59</th>\n",
       "      <td>546574</td>\n",
       "      <td>control</td>\n",
       "      <td>old</td>\n",
       "      <td>9.15</td>\n",
       "      <td>no</td>\n",
       "      <td>French</td>\n",
       "    </tr>\n",
       "    <tr>\n",
       "      <th>62</th>\n",
       "      <td>546572</td>\n",
       "      <td>control</td>\n",
       "      <td>old</td>\n",
       "      <td>4.18</td>\n",
       "      <td>no</td>\n",
       "      <td>French</td>\n",
       "    </tr>\n",
       "    <tr>\n",
       "      <th>63</th>\n",
       "      <td>546590</td>\n",
       "      <td>control</td>\n",
       "      <td>old</td>\n",
       "      <td>5.47</td>\n",
       "      <td>no</td>\n",
       "      <td>Spanish</td>\n",
       "    </tr>\n",
       "    <tr>\n",
       "      <th>64</th>\n",
       "      <td>546553</td>\n",
       "      <td>control</td>\n",
       "      <td>old</td>\n",
       "      <td>5.96</td>\n",
       "      <td>yes</td>\n",
       "      <td>English</td>\n",
       "    </tr>\n",
       "    <tr>\n",
       "      <th>66</th>\n",
       "      <td>546545</td>\n",
       "      <td>control</td>\n",
       "      <td>old</td>\n",
       "      <td>6.60</td>\n",
       "      <td>yes</td>\n",
       "      <td>English</td>\n",
       "    </tr>\n",
       "    <tr>\n",
       "      <th>67</th>\n",
       "      <td>546582</td>\n",
       "      <td>control</td>\n",
       "      <td>old</td>\n",
       "      <td>4.75</td>\n",
       "      <td>yes</td>\n",
       "      <td>Spanish</td>\n",
       "    </tr>\n",
       "    <tr>\n",
       "      <th>69</th>\n",
       "      <td>546579</td>\n",
       "      <td>control</td>\n",
       "      <td>old</td>\n",
       "      <td>2.23</td>\n",
       "      <td>no</td>\n",
       "      <td>Spanish</td>\n",
       "    </tr>\n",
       "    <tr>\n",
       "      <th>70</th>\n",
       "      <td>546568</td>\n",
       "      <td>control</td>\n",
       "      <td>old</td>\n",
       "      <td>0.40</td>\n",
       "      <td>no</td>\n",
       "      <td>French</td>\n",
       "    </tr>\n",
       "    <tr>\n",
       "      <th>74</th>\n",
       "      <td>546591</td>\n",
       "      <td>control</td>\n",
       "      <td>old</td>\n",
       "      <td>4.87</td>\n",
       "      <td>no</td>\n",
       "      <td>Spanish</td>\n",
       "    </tr>\n",
       "    <tr>\n",
       "      <th>75</th>\n",
       "      <td>546583</td>\n",
       "      <td>control</td>\n",
       "      <td>old</td>\n",
       "      <td>6.57</td>\n",
       "      <td>yes</td>\n",
       "      <td>Spanish</td>\n",
       "    </tr>\n",
       "    <tr>\n",
       "      <th>76</th>\n",
       "      <td>546573</td>\n",
       "      <td>control</td>\n",
       "      <td>old</td>\n",
       "      <td>1.44</td>\n",
       "      <td>no</td>\n",
       "      <td>French</td>\n",
       "    </tr>\n",
       "    <tr>\n",
       "      <th>79</th>\n",
       "      <td>546547</td>\n",
       "      <td>control</td>\n",
       "      <td>old</td>\n",
       "      <td>3.21</td>\n",
       "      <td>yes</td>\n",
       "      <td>English</td>\n",
       "    </tr>\n",
       "    <tr>\n",
       "      <th>83</th>\n",
       "      <td>546580</td>\n",
       "      <td>control</td>\n",
       "      <td>old</td>\n",
       "      <td>2.90</td>\n",
       "      <td>no</td>\n",
       "      <td>Spanish</td>\n",
       "    </tr>\n",
       "    <tr>\n",
       "      <th>84</th>\n",
       "      <td>546571</td>\n",
       "      <td>control</td>\n",
       "      <td>old</td>\n",
       "      <td>4.30</td>\n",
       "      <td>no</td>\n",
       "      <td>French</td>\n",
       "    </tr>\n",
       "    <tr>\n",
       "      <th>85</th>\n",
       "      <td>546564</td>\n",
       "      <td>control</td>\n",
       "      <td>old</td>\n",
       "      <td>0.91</td>\n",
       "      <td>no</td>\n",
       "      <td>French</td>\n",
       "    </tr>\n",
       "    <tr>\n",
       "      <th>89</th>\n",
       "      <td>546561</td>\n",
       "      <td>control</td>\n",
       "      <td>old</td>\n",
       "      <td>6.04</td>\n",
       "      <td>yes</td>\n",
       "      <td>French</td>\n",
       "    </tr>\n",
       "    <tr>\n",
       "      <th>92</th>\n",
       "      <td>546566</td>\n",
       "      <td>control</td>\n",
       "      <td>old</td>\n",
       "      <td>8.35</td>\n",
       "      <td>no</td>\n",
       "      <td>French</td>\n",
       "    </tr>\n",
       "    <tr>\n",
       "      <th>94</th>\n",
       "      <td>546550</td>\n",
       "      <td>control</td>\n",
       "      <td>old</td>\n",
       "      <td>3.05</td>\n",
       "      <td>no</td>\n",
       "      <td>English</td>\n",
       "    </tr>\n",
       "    <tr>\n",
       "      <th>96</th>\n",
       "      <td>546544</td>\n",
       "      <td>control</td>\n",
       "      <td>old</td>\n",
       "      <td>6.52</td>\n",
       "      <td>yes</td>\n",
       "      <td>English</td>\n",
       "    </tr>\n",
       "  </tbody>\n",
       "</table>\n",
       "</div>"
      ],
      "text/plain": [
       "    user_id    group landing_page  time_spent_on_the_page converted  \\\n",
       "0    546592  control          old                    3.48        no   \n",
       "3    546567  control          old                    3.02        no   \n",
       "5    546558  control          old                    5.28       yes   \n",
       "7    546581  control          old                    6.53       yes   \n",
       "9    546548  control          old                    2.08        no   \n",
       "10   546588  control          old                    6.21       yes   \n",
       "11   546546  control          old                    2.58       yes   \n",
       "14   546578  control          old                    8.72       yes   \n",
       "17   546555  control          old                    0.40        no   \n",
       "18   546493  control          old                   10.30       yes   \n",
       "19   546549  control          old                    3.88       yes   \n",
       "20   546560  control          old                    2.66        no   \n",
       "21   546584  control          old                    7.03       yes   \n",
       "27   546586  control          old                    4.05        no   \n",
       "29   546575  control          old                    4.28        no   \n",
       "31   546556  control          old                    3.52       yes   \n",
       "32   546585  control          old                    5.39       yes   \n",
       "33   546577  control          old                    4.52        no   \n",
       "34   546587  control          old                    4.46        no   \n",
       "35   546552  control          old                    8.50       yes   \n",
       "36   546551  control          old                    3.13        no   \n",
       "37   546557  control          old                    6.04       yes   \n",
       "39   546589  control          old                    0.19        no   \n",
       "40   546559  control          old                    8.46       yes   \n",
       "41   546570  control          old                    1.92        no   \n",
       "45   546565  control          old                    8.02        no   \n",
       "50   546554  control          old                    0.22        no   \n",
       "53   546576  control          old                    4.71        no   \n",
       "55   546563  control          old                    0.93        no   \n",
       "56   546569  control          old                    1.81        no   \n",
       "58   546562  control          old                    7.40       yes   \n",
       "59   546574  control          old                    9.15        no   \n",
       "62   546572  control          old                    4.18        no   \n",
       "63   546590  control          old                    5.47        no   \n",
       "64   546553  control          old                    5.96       yes   \n",
       "66   546545  control          old                    6.60       yes   \n",
       "67   546582  control          old                    4.75       yes   \n",
       "69   546579  control          old                    2.23        no   \n",
       "70   546568  control          old                    0.40        no   \n",
       "74   546591  control          old                    4.87        no   \n",
       "75   546583  control          old                    6.57       yes   \n",
       "76   546573  control          old                    1.44        no   \n",
       "79   546547  control          old                    3.21       yes   \n",
       "83   546580  control          old                    2.90        no   \n",
       "84   546571  control          old                    4.30        no   \n",
       "85   546564  control          old                    0.91        no   \n",
       "89   546561  control          old                    6.04       yes   \n",
       "92   546566  control          old                    8.35        no   \n",
       "94   546550  control          old                    3.05        no   \n",
       "96   546544  control          old                    6.52       yes   \n",
       "\n",
       "   language_preferred  \n",
       "0             Spanish  \n",
       "3              French  \n",
       "5             English  \n",
       "7             Spanish  \n",
       "9             English  \n",
       "10            Spanish  \n",
       "11            English  \n",
       "14            Spanish  \n",
       "17            English  \n",
       "18            English  \n",
       "19            English  \n",
       "20             French  \n",
       "21            Spanish  \n",
       "27            Spanish  \n",
       "29             French  \n",
       "31            English  \n",
       "32            Spanish  \n",
       "33            Spanish  \n",
       "34            Spanish  \n",
       "35            English  \n",
       "36            English  \n",
       "37            English  \n",
       "39            Spanish  \n",
       "40             French  \n",
       "41             French  \n",
       "45             French  \n",
       "50            English  \n",
       "53            Spanish  \n",
       "55             French  \n",
       "56             French  \n",
       "58             French  \n",
       "59             French  \n",
       "62             French  \n",
       "63            Spanish  \n",
       "64            English  \n",
       "66            English  \n",
       "67            Spanish  \n",
       "69            Spanish  \n",
       "70             French  \n",
       "74            Spanish  \n",
       "75            Spanish  \n",
       "76             French  \n",
       "79            English  \n",
       "83            Spanish  \n",
       "84             French  \n",
       "85             French  \n",
       "89             French  \n",
       "92             French  \n",
       "94            English  \n",
       "96            English  "
      ]
     },
     "execution_count": 123,
     "metadata": {},
     "output_type": "execute_result"
    }
   ],
   "source": [
    "time_spent_old = df[df['landing_page'] == 'old']\n",
    "time_spent_old"
   ]
  },
  {
   "cell_type": "code",
   "execution_count": 124,
   "id": "5f621921",
   "metadata": {},
   "outputs": [
    {
     "data": {
      "text/plain": [
       "0      3.48\n",
       "3      3.02\n",
       "5      5.28\n",
       "7      6.53\n",
       "9      2.08\n",
       "10     6.21\n",
       "11     2.58\n",
       "14     8.72\n",
       "17     0.40\n",
       "18    10.30\n",
       "19     3.88\n",
       "20     2.66\n",
       "21     7.03\n",
       "27     4.05\n",
       "29     4.28\n",
       "31     3.52\n",
       "32     5.39\n",
       "33     4.52\n",
       "34     4.46\n",
       "35     8.50\n",
       "36     3.13\n",
       "37     6.04\n",
       "39     0.19\n",
       "40     8.46\n",
       "41     1.92\n",
       "45     8.02\n",
       "50     0.22\n",
       "53     4.71\n",
       "55     0.93\n",
       "56     1.81\n",
       "58     7.40\n",
       "59     9.15\n",
       "62     4.18\n",
       "63     5.47\n",
       "64     5.96\n",
       "66     6.60\n",
       "67     4.75\n",
       "69     2.23\n",
       "70     0.40\n",
       "74     4.87\n",
       "75     6.57\n",
       "76     1.44\n",
       "79     3.21\n",
       "83     2.90\n",
       "84     4.30\n",
       "85     0.91\n",
       "89     6.04\n",
       "92     8.35\n",
       "94     3.05\n",
       "96     6.52\n",
       "Name: time_spent_on_the_page, dtype: float64"
      ]
     },
     "execution_count": 124,
     "metadata": {},
     "output_type": "execute_result"
    }
   ],
   "source": [
    "time_spent_old = df[df['landing_page'] == 'old']['time_spent_on_the_page']\n",
    "time_spent_old"
   ]
  },
  {
   "cell_type": "code",
   "execution_count": 125,
   "id": "8fcb08f6",
   "metadata": {},
   "outputs": [
    {
     "data": {
      "text/plain": [
       "1.8170310387878263"
      ]
     },
     "execution_count": 125,
     "metadata": {},
     "output_type": "execute_result"
    }
   ],
   "source": [
    "time_spent_new.std()"
   ]
  },
  {
   "cell_type": "code",
   "execution_count": 126,
   "id": "da3d33fd",
   "metadata": {},
   "outputs": [
    {
     "data": {
      "text/plain": [
       "2.581974849306046"
      ]
     },
     "execution_count": 126,
     "metadata": {},
     "output_type": "execute_result"
    }
   ],
   "source": [
    "time_spent_old.std()"
   ]
  },
  {
   "cell_type": "code",
   "execution_count": 127,
   "id": "7e843314",
   "metadata": {},
   "outputs": [
    {
     "name": "stdout",
     "output_type": "stream",
     "text": [
      "The sample standard deviation of the time spent on the new page is: 1.82\n",
      "The sample standard deviation of the time spent on the old page is: 2.58\n"
     ]
    }
   ],
   "source": [
    "print('The sample standard deviation of the time spent on the new page is:', round(time_spent_new.std(),2))\n",
    "\n",
    "print('The sample standard deviation of the time spent on the old page is:', round(time_spent_old.std(),2))"
   ]
  },
  {
   "cell_type": "markdown",
   "id": "f5c5258d",
   "metadata": {
    "id": "f5c5258d"
   },
   "source": [
    "### Step 5: Calculate the p-value"
   ]
  },
  {
   "cell_type": "code",
   "execution_count": 128,
   "id": "3e087868",
   "metadata": {},
   "outputs": [],
   "source": [
    "from scipy.stats import ttest_ind"
   ]
  },
  {
   "cell_type": "code",
   "execution_count": 129,
   "id": "fac8594a",
   "metadata": {
    "id": "fac8594a"
   },
   "outputs": [
    {
     "name": "stdout",
     "output_type": "stream",
     "text": [
      "The p-value is 0.0001392381225166549\n"
     ]
    }
   ],
   "source": [
    "# find the p-value\n",
    "test_stat, p_value = ttest_ind(time_spent_new, time_spent_old, equal_var = False, alternative = 'greater')\n",
    "print('The p-value is '+ str(p_value))"
   ]
  },
  {
   "cell_type": "markdown",
   "id": "359b12f8",
   "metadata": {
    "id": "359b12f8"
   },
   "source": [
    "### Step 6: Compare the p-value with $\\alpha$"
   ]
  },
  {
   "cell_type": "code",
   "execution_count": 130,
   "id": "7be47289",
   "metadata": {
    "id": "7be47289"
   },
   "outputs": [
    {
     "name": "stdout",
     "output_type": "stream",
     "text": [
      "As the p-value 0.0001392381225166549 is less than the level of significance, we reject the null hypothesis.\n"
     ]
    }
   ],
   "source": [
    "if p_value < 0.05:\n",
    "    print(f'As the p-value {p_value} is less than the level of significance, we reject the null hypothesis.')\n",
    "else:\n",
    "    print(f'As the p-value {p_value} is greater than the level of significance, we fail to reject the null hypothesis.')"
   ]
  },
  {
   "cell_type": "markdown",
   "id": "d9affc84",
   "metadata": {
    "id": "d9affc84"
   },
   "source": [
    "### Step 7:  Draw inference"
   ]
  },
  {
   "cell_type": "markdown",
   "id": "6b16dd4b",
   "metadata": {
    "id": "6b16dd4b"
   },
   "source": [
    "Since we were able to reject the null hypothesis, we have statistical evidence to say that the mean time spent by the users on the new page is greater than the mean time spent by the users on the old page."
   ]
  },
  {
   "cell_type": "markdown",
   "id": "353e9d24",
   "metadata": {
    "id": "353e9d24"
   },
   "source": [
    "## 3. Is the conversion rate (the proportion of users who visit the landing page and get converted) for the new page greater than the conversion rate for the old page? "
   ]
  },
  {
   "cell_type": "code",
   "execution_count": 131,
   "id": "0c2d8619",
   "metadata": {},
   "outputs": [
    {
     "data": {
      "image/png": "[encoded data removed]",
      "text/plain": [
       "<Figure size 432x576 with 1 Axes>"
      ]
     },
     "metadata": {
      "needs_background": "light"
     },
     "output_type": "display_data"
    }
   ],
   "source": [
    "pd.crosstab(df['converted'], df['landing_page'], normalize='index').plot(kind=\"bar\", figsize=(6,8),stacked=True)\n",
    "plt.legend()\n",
    "plt.show()"
   ]
  },
  {
   "cell_type": "markdown",
   "id": "9e1fa447",
   "metadata": {},
   "source": [
    "From the plot, it is clear that overall, the users that get converted are more for the new page than the old page.Lets perform a hypothesis test to make sure we have statistical evidence to prove this fact. "
   ]
  },
  {
   "cell_type": "markdown",
   "id": "f615aff9",
   "metadata": {},
   "source": [
    "### Step 1: Define the null and alternate hypotheses"
   ]
  },
  {
   "cell_type": "markdown",
   "id": "097760f8",
   "metadata": {},
   "source": [
    "$H_0$ : Conversion rate for the new page is equal to the conversion rate for the old page.\n",
    "       \n",
    "$H_a$ : Conversion rate for the new page is greater than the conversion rate for the old page .\n",
    "\n",
    "Let $p_1, p_2$ be the conversion rate by users on the new and old page respectively.\n",
    "\n",
    "We will test the null hypothesis\n",
    "\n",
    ">$H_0:p_1=p_2$\n",
    "\n",
    "against the alternate hypothesis\n",
    "\n",
    ">$H_a:p_1>p_2$"
   ]
  },
  {
   "cell_type": "markdown",
   "id": "04854c1a",
   "metadata": {},
   "source": [
    "### Step 2: Select Appropriate test"
   ]
  },
  {
   "cell_type": "markdown",
   "id": "7f85b40f",
   "metadata": {},
   "source": [
    "This is a one-tailed test concerning two population proportions means from two independent populations. The population standard deviations are unknown. **Based on this information, we select the appropriate test**. So, we go ahead with two proportion z-test for this problem."
   ]
  },
  {
   "cell_type": "markdown",
   "id": "09a5be2c",
   "metadata": {},
   "source": [
    "### Step 3: Decide the significance level"
   ]
  },
  {
   "cell_type": "markdown",
   "id": "0bee5d09",
   "metadata": {},
   "source": [
    "As given in the problem statement, we select α = 0.05.  #To minimise errors"
   ]
  },
  {
   "cell_type": "markdown",
   "id": "cbfcc595",
   "metadata": {},
   "source": [
    "### Step 4: Collect and prepare data"
   ]
  },
  {
   "cell_type": "code",
   "execution_count": 132,
   "id": "b76f4064",
   "metadata": {},
   "outputs": [
    {
     "name": "stdout",
     "output_type": "stream",
     "text": [
      "The numbers of  converted users for new and old pages are 33 and 21 respectively\n",
      "The numbers of users served the new and old pages are 50 and 50 respectively\n"
     ]
    }
   ],
   "source": [
    "# calculating the number of converted users in the treatment group\n",
    "new_converted = df[df['group'] == 'treatment']['converted'].value_counts()['yes']\n",
    "# calculating the number of converted users in the control group\n",
    "old_converted = df[df['group'] == 'control']['converted'].value_counts()['yes'] \n",
    "print('The numbers of  converted users for new and old pages are {0} and {1} respectively'.format(new_converted, old_converted))\n",
    "\n",
    "n_control = df.group.value_counts()['control'] # total number of users in the control group\n",
    "n_treatment = df.group.value_counts()['treatment'] # total number of users in the treatment group\n",
    "print('The numbers of users served the new and old pages are {0} and {1} respectively'.format(n_control, n_treatment ))"
   ]
  },
  {
   "cell_type": "markdown",
   "id": "41b8b657",
   "metadata": {},
   "source": [
    "### Step 5: Calculate the p-value"
   ]
  },
  {
   "cell_type": "code",
   "execution_count": 133,
   "id": "c5b2c2c5",
   "metadata": {},
   "outputs": [
    {
     "name": "stdout",
     "output_type": "stream",
     "text": [
      "The p-value is 0.008026308204056278\n"
     ]
    }
   ],
   "source": [
    "from statsmodels.stats.proportion import proportions_ztest\n",
    "# find the p-value\n",
    "test_stat, p_value = proportions_ztest([new_converted,old_converted],[n_control,n_treatment], alternative = \"larger\")\n",
    "print('The p-value is ' + str(p_value))"
   ]
  },
  {
   "cell_type": "code",
   "execution_count": 134,
   "id": "b7f52898",
   "metadata": {
    "id": "b7f52898"
   },
   "outputs": [
    {
     "name": "stdout",
     "output_type": "stream",
     "text": [
      "As the p-value 0.008026308204056278 is less than the level of significance, we reject the null hypothesis.\n"
     ]
    }
   ],
   "source": [
    "if p_value < 0.05:\n",
    "    print(f'As the p-value {p_value} is less than the level of significance, we reject the null hypothesis.')\n",
    "else:\n",
    "    print(f'As the p-value {p_value} is greater than the level of significance, we fail to reject the null hypothesis.')"
   ]
  },
  {
   "cell_type": "markdown",
   "id": "413fb545",
   "metadata": {},
   "source": [
    "### Step 7:  Draw inference"
   ]
  },
  {
   "cell_type": "markdown",
   "id": "238d66f2",
   "metadata": {},
   "source": [
    "Since we were able to reject the null hypothesis, we have statistical evidence to say that the conversion rate by the users for the new page is greater than the conversion rate by the users for the old page."
   ]
  },
  {
   "cell_type": "markdown",
   "id": "d49bfa2d",
   "metadata": {
    "id": "d49bfa2d"
   },
   "source": [
    "## 4. Is the conversion and preferred language are independent or related? (10 Marks)"
   ]
  },
  {
   "cell_type": "code",
   "execution_count": 88,
   "id": "846acc96",
   "metadata": {},
   "outputs": [
    {
     "data": {
      "text/html": [
       "<div>\n",
       "<style scoped>\n",
       "    .dataframe tbody tr th:only-of-type {\n",
       "        vertical-align: middle;\n",
       "    }\n",
       "\n",
       "    .dataframe tbody tr th {\n",
       "        vertical-align: top;\n",
       "    }\n",
       "\n",
       "    .dataframe thead th {\n",
       "        text-align: right;\n",
       "    }\n",
       "</style>\n",
       "<table border=\"1\" class=\"dataframe\">\n",
       "  <thead>\n",
       "    <tr style=\"text-align: right;\">\n",
       "      <th>language_preferred</th>\n",
       "      <th>English</th>\n",
       "      <th>French</th>\n",
       "      <th>Spanish</th>\n",
       "    </tr>\n",
       "    <tr>\n",
       "      <th>converted</th>\n",
       "      <th></th>\n",
       "      <th></th>\n",
       "      <th></th>\n",
       "    </tr>\n",
       "  </thead>\n",
       "  <tbody>\n",
       "    <tr>\n",
       "      <th>no</th>\n",
       "      <td>0.239130</td>\n",
       "      <td>0.413043</td>\n",
       "      <td>0.347826</td>\n",
       "    </tr>\n",
       "    <tr>\n",
       "      <th>yes</th>\n",
       "      <td>0.388889</td>\n",
       "      <td>0.277778</td>\n",
       "      <td>0.333333</td>\n",
       "    </tr>\n",
       "  </tbody>\n",
       "</table>\n",
       "</div>"
      ],
      "text/plain": [
       "language_preferred   English    French   Spanish\n",
       "converted                                       \n",
       "no                  0.239130  0.413043  0.347826\n",
       "yes                 0.388889  0.277778  0.333333"
      ]
     },
     "execution_count": 88,
     "metadata": {},
     "output_type": "execute_result"
    }
   ],
   "source": [
    "pd.crosstab(df['converted'],df['language_preferred'],normalize='index')"
   ]
  },
  {
   "cell_type": "code",
   "execution_count": 89,
   "id": "240b0a27",
   "metadata": {},
   "outputs": [
    {
     "data": {
      "text/html": [
       "<div>\n",
       "<style scoped>\n",
       "    .dataframe tbody tr th:only-of-type {\n",
       "        vertical-align: middle;\n",
       "    }\n",
       "\n",
       "    .dataframe tbody tr th {\n",
       "        vertical-align: top;\n",
       "    }\n",
       "\n",
       "    .dataframe thead th {\n",
       "        text-align: right;\n",
       "    }\n",
       "</style>\n",
       "<table border=\"1\" class=\"dataframe\">\n",
       "  <thead>\n",
       "    <tr style=\"text-align: right;\">\n",
       "      <th>language_preferred</th>\n",
       "      <th>English</th>\n",
       "      <th>French</th>\n",
       "      <th>Spanish</th>\n",
       "    </tr>\n",
       "    <tr>\n",
       "      <th>converted</th>\n",
       "      <th></th>\n",
       "      <th></th>\n",
       "      <th></th>\n",
       "    </tr>\n",
       "  </thead>\n",
       "  <tbody>\n",
       "    <tr>\n",
       "      <th>no</th>\n",
       "      <td>11</td>\n",
       "      <td>19</td>\n",
       "      <td>16</td>\n",
       "    </tr>\n",
       "    <tr>\n",
       "      <th>yes</th>\n",
       "      <td>21</td>\n",
       "      <td>15</td>\n",
       "      <td>18</td>\n",
       "    </tr>\n",
       "  </tbody>\n",
       "</table>\n",
       "</div>"
      ],
      "text/plain": [
       "language_preferred  English  French  Spanish\n",
       "converted                                   \n",
       "no                       11      19       16\n",
       "yes                      21      15       18"
      ]
     },
     "execution_count": 89,
     "metadata": {},
     "output_type": "execute_result"
    }
   ],
   "source": [
    "pd.crosstab(df['converted'],df['language_preferred'])"
   ]
  },
  {
   "cell_type": "code",
   "execution_count": 91,
   "id": "a7f4fa7a",
   "metadata": {},
   "outputs": [
    {
     "data": {
      "image/png": "[encoded data removed]",
      "text/plain": [
       "<Figure size 432x576 with 1 Axes>"
      ]
     },
     "metadata": {
      "needs_background": "light"
     },
     "output_type": "display_data"
    }
   ],
   "source": [
    "pd.crosstab(df['converted'],df['language_preferred'],normalize='index').plot(kind=\"bar\",figsize=(6,8),stacked=True)\n",
    "plt.legend()\n",
    "plt.show()"
   ]
  },
  {
   "cell_type": "markdown",
   "id": "a3c2f3df",
   "metadata": {},
   "source": [
    "The distribution status of English and French users are not uniformly distributed.Lets perform a hypothesis test to make sure we have statistical evidence to prove if the conversion and preferred language are independent or related."
   ]
  },
  {
   "cell_type": "markdown",
   "id": "7b39fee8",
   "metadata": {},
   "source": [
    "### Step 1: Define the null and alternate hypotheses"
   ]
  },
  {
   "cell_type": "markdown",
   "id": "4a126422",
   "metadata": {
    "id": "b0e63f17"
   },
   "source": [
    "We will test the null hypothesis\n",
    "\n",
    ">$H_0:$ conversion status is independent of preferred language.\n",
    "\n",
    "against the alternate hypothesis\n",
    "\n",
    ">$H_a:$ conversion status depends on preferred language."
   ]
  },
  {
   "cell_type": "markdown",
   "id": "26216aba",
   "metadata": {},
   "source": [
    "### Step 2: Select Appropriate test"
   ]
  },
  {
   "cell_type": "markdown",
   "id": "f10af833",
   "metadata": {},
   "source": [
    "This is a problem of the test of independence, concerning two categorical variables - converted status and preferred language. **Based on this information, we select the appropriate test.**Chi-Square Test for Independence."
   ]
  },
  {
   "cell_type": "markdown",
   "id": "1a68b467",
   "metadata": {},
   "source": [
    "### Step 3: Decide the significance level"
   ]
  },
  {
   "cell_type": "markdown",
   "id": "d661a748",
   "metadata": {},
   "source": [
    "As given in the problem statement, we select α = 0.05."
   ]
  },
  {
   "cell_type": "markdown",
   "id": "c524e716",
   "metadata": {},
   "source": [
    "### Step 4: Collect and prepare data"
   ]
  },
  {
   "cell_type": "code",
   "execution_count": 92,
   "id": "7436c26b",
   "metadata": {},
   "outputs": [
    {
     "data": {
      "text/html": [
       "<div>\n",
       "<style scoped>\n",
       "    .dataframe tbody tr th:only-of-type {\n",
       "        vertical-align: middle;\n",
       "    }\n",
       "\n",
       "    .dataframe tbody tr th {\n",
       "        vertical-align: top;\n",
       "    }\n",
       "\n",
       "    .dataframe thead th {\n",
       "        text-align: right;\n",
       "    }\n",
       "</style>\n",
       "<table border=\"1\" class=\"dataframe\">\n",
       "  <thead>\n",
       "    <tr style=\"text-align: right;\">\n",
       "      <th>language_preferred</th>\n",
       "      <th>English</th>\n",
       "      <th>French</th>\n",
       "      <th>Spanish</th>\n",
       "    </tr>\n",
       "    <tr>\n",
       "      <th>converted</th>\n",
       "      <th></th>\n",
       "      <th></th>\n",
       "      <th></th>\n",
       "    </tr>\n",
       "  </thead>\n",
       "  <tbody>\n",
       "    <tr>\n",
       "      <th>no</th>\n",
       "      <td>11</td>\n",
       "      <td>19</td>\n",
       "      <td>16</td>\n",
       "    </tr>\n",
       "    <tr>\n",
       "      <th>yes</th>\n",
       "      <td>21</td>\n",
       "      <td>15</td>\n",
       "      <td>18</td>\n",
       "    </tr>\n",
       "  </tbody>\n",
       "</table>\n",
       "</div>"
      ],
      "text/plain": [
       "language_preferred  English  French  Spanish\n",
       "converted                                   \n",
       "no                       11      19       16\n",
       "yes                      21      15       18"
      ]
     },
     "execution_count": 92,
     "metadata": {},
     "output_type": "execute_result"
    }
   ],
   "source": [
    "contingency_table=pd.crosstab(df['converted'], df['language_preferred'])\n",
    "contingency_table                                                  "
   ]
  },
  {
   "cell_type": "markdown",
   "id": "37c05a59",
   "metadata": {},
   "source": [
    "### Step 5: Calculate the p-value"
   ]
  },
  {
   "cell_type": "code",
   "execution_count": 94,
   "id": "4e14f7ca",
   "metadata": {},
   "outputs": [],
   "source": [
    "from scipy.stats import chi2_contingency"
   ]
  },
  {
   "cell_type": "code",
   "execution_count": 95,
   "id": "2e3c5808",
   "metadata": {},
   "outputs": [
    {
     "name": "stdout",
     "output_type": "stream",
     "text": [
      "The p-value is 0.21298887487543447\n"
     ]
    }
   ],
   "source": [
    "chi, p_value, dof, exp_freq = chi2_contingency(contingency_table)\n",
    "print('The p-value is', p_value)"
   ]
  },
  {
   "cell_type": "markdown",
   "id": "6c5bd0e4",
   "metadata": {},
   "source": [
    "### Step 6: Compare the p-value with $\\alpha$"
   ]
  },
  {
   "cell_type": "code",
   "execution_count": 97,
   "id": "3715a9db",
   "metadata": {
    "scrolled": true
   },
   "outputs": [
    {
     "name": "stdout",
     "output_type": "stream",
     "text": [
      "As the p-value 0.21298887487543447 is greater than the level of significance, we fail to reject the null hypothesis.\n"
     ]
    }
   ],
   "source": [
    "if p_value < 0.05:\n",
    "    print(f'As the p-value {p_value} is less than the level of significance, we reject the null hypothesis.')\n",
    "else:\n",
    "    print(f'As the p-value {p_value} is greater than the level of significance, we fail to reject the null hypothesis.')"
   ]
  },
  {
   "cell_type": "markdown",
   "id": "7023a9ca",
   "metadata": {},
   "source": [
    "### Step 7:  Draw inference"
   ]
  },
  {
   "cell_type": "markdown",
   "id": "96f3f9f9",
   "metadata": {},
   "source": [
    "As the p-value 0.21298887487543447 is greater than the level of significance,we do not have statistical evidence to prove if the conversion and preferred language are independent or related."
   ]
  },
  {
   "cell_type": "markdown",
   "id": "8d585a90",
   "metadata": {
    "id": "8d585a90"
   },
   "source": [
    "## 5. Is the time spent on the new page same for the different language users? "
   ]
  },
  {
   "cell_type": "code",
   "execution_count": 101,
   "id": "e802aa14",
   "metadata": {},
   "outputs": [
    {
     "data": {
      "image/png": "[encoded data removed]",
      "text/plain": [
       "<Figure size 432x432 with 1 Axes>"
      ]
     },
     "metadata": {
      "needs_background": "light"
     },
     "output_type": "display_data"
    }
   ],
   "source": [
    "plt.figure(figsize=(6,6))\n",
    "new_df=df[df['landing_page']=='new']\n",
    "sns.boxplot(x='language_preferred',y='time_spent_on_the_page', showmeans=True,data=new_df)\n",
    "plt.show()"
   ]
  },
  {
   "cell_type": "code",
   "execution_count": 103,
   "id": "984effe5",
   "metadata": {},
   "outputs": [
    {
     "data": {
      "text/plain": [
       "language_preferred\n",
       "English    6.663750\n",
       "French     6.196471\n",
       "Spanish    5.835294\n",
       "Name: time_spent_on_the_page, dtype: float64"
      ]
     },
     "execution_count": 103,
     "metadata": {},
     "output_type": "execute_result"
    }
   ],
   "source": [
    "new_df.groupby(['language_preferred'])['time_spent_on_the_page'].mean()"
   ]
  },
  {
   "cell_type": "markdown",
   "id": "fb1cb643",
   "metadata": {},
   "source": [
    "We need to see if this above difference is statistically significant or not."
   ]
  },
  {
   "cell_type": "markdown",
   "id": "a6716dd9",
   "metadata": {},
   "source": [
    "### Step 1: Define the null and alternate hypotheses"
   ]
  },
  {
   "cell_type": "markdown",
   "id": "8d78fcb8",
   "metadata": {},
   "source": [
    "We will test the null hypothesis\n",
    "\n",
    ">$H_0:$ Meant time spent by all three language users are equal.\n",
    "\n",
    "against the alternate hypothesis\n",
    "\n",
    ">$H_a:$ At least one of the mean timenspent on the new page by English, French and Spanish users is unequal."
   ]
  },
  {
   "cell_type": "markdown",
   "id": "c02e3d86",
   "metadata": {},
   "source": [
    "### Step 2: Select Appropriate test"
   ]
  },
  {
   "cell_type": "markdown",
   "id": "451e1d7c",
   "metadata": {},
   "source": [
    "Concerns 3 population means.Hence One-way ANOVA test is suitable providing normality and variance assumptions verified."
   ]
  },
  {
   "cell_type": "markdown",
   "id": "97f64469",
   "metadata": {},
   "source": [
    "Now, the normality and equality of variance assumptions need to be checked. \n",
    "\n",
    "* For testing of normality, Shapiro-Wilk’s test is applied to the response variable.\n",
    "\n",
    "* For equality of variance, Levene test is applied to the response variable."
   ]
  },
  {
   "cell_type": "markdown",
   "id": "f7fc431f",
   "metadata": {},
   "source": [
    "### Shapiro-Wilk’s test\n",
    "\n",
    "We will test the null hypothesis\n",
    "\n",
    ">$H_0:$ Time spent on new page will follow a normal distribution \n",
    "\n",
    "against the alternative hypothesis\n",
    "\n",
    ">$H_a:$  Time spent on new page  does not follow a normal distribution"
   ]
  },
  {
   "cell_type": "code",
   "execution_count": 105,
   "id": "fbfc4062",
   "metadata": {
    "scrolled": true
   },
   "outputs": [
    {
     "name": "stdout",
     "output_type": "stream",
     "text": [
      "The p-value is 0.8040016293525696\n"
     ]
    }
   ],
   "source": [
    "from scipy import stats\n",
    "\n",
    "# find the p-value\n",
    "w, p_value = stats.shapiro(new_df['time_spent_on_the_page']) \n",
    "print('The p-value is', p_value)"
   ]
  },
  {
   "cell_type": "markdown",
   "id": "d7cd972e",
   "metadata": {},
   "source": [
    "Hence we fail to reject the null hypothesis that the response follows the normal distribution as p-value is greater than 0.05."
   ]
  },
  {
   "cell_type": "markdown",
   "id": "3f98cf67",
   "metadata": {},
   "source": [
    "### Levene’s test\n",
    "\n",
    "We will test the null hypothesis\n",
    "\n",
    ">$H_0$: All the population variances are equal\n",
    "\n",
    "against the alternative hypothesis\n",
    "\n",
    ">$H_a$: At least one variance is different from the rest"
   ]
  },
  {
   "cell_type": "code",
   "execution_count": 116,
   "id": "0a511c8b",
   "metadata": {},
   "outputs": [
    {
     "name": "stdout",
     "output_type": "stream",
     "text": [
      "The p-value is 0.46711357711340173\n"
     ]
    }
   ],
   "source": [
    "from scipy.stats import levene\n",
    "statistic, p_value = levene( new_df[new_df['language_preferred']==\"English\"]['time_spent_on_the_page'], \n",
    "                             new_df[new_df['language_preferred']==\"French\"]['time_spent_on_the_page'], \n",
    "                             new_df[new_df['language_preferred']==\"Spanish\"]['time_spent_on_the_page'])\n",
    "                                    \n",
    "# find the p-value\n",
    "print('The p-value is', p_value)"
   ]
  },
  {
   "cell_type": "markdown",
   "id": "70a813fb",
   "metadata": {},
   "source": [
    "Here too, null hypothesis is failed to be rejected."
   ]
  },
  {
   "cell_type": "markdown",
   "id": "9065f404",
   "metadata": {},
   "source": [
    "### Step 3: Decide the significance level"
   ]
  },
  {
   "cell_type": "markdown",
   "id": "4167be3b",
   "metadata": {},
   "source": [
    "As given in the problem statement, we select α = 0.05."
   ]
  },
  {
   "cell_type": "markdown",
   "id": "1fb32b0d",
   "metadata": {},
   "source": [
    "### Step 4: Collect and prepare data"
   ]
  },
  {
   "cell_type": "code",
   "execution_count": 118,
   "id": "19a4e9dc",
   "metadata": {},
   "outputs": [],
   "source": [
    "time_spent_English = new_df[new_df['language_preferred']==\"English\"]['time_spent_on_the_page']\n",
    "time_spent_French =  new_df[new_df['language_preferred']==\"French\"]['time_spent_on_the_page']\n",
    "time_spent_Spanish = new_df[new_df['language_preferred']==\"Spanish\"]['time_spent_on_the_page']"
   ]
  },
  {
   "cell_type": "markdown",
   "id": "ed23aa7f",
   "metadata": {},
   "source": [
    "### Step 5: Calculate the p-value"
   ]
  },
  {
   "cell_type": "code",
   "execution_count": 119,
   "id": "274a8b99",
   "metadata": {},
   "outputs": [
    {
     "name": "stdout",
     "output_type": "stream",
     "text": [
      "The p-value is 0.43204138694325955\n"
     ]
    }
   ],
   "source": [
    "from scipy.stats import f_oneway \n",
    "\n",
    "test_stat, p_value =    f_oneway(time_spent_English,time_spent_French,time_spent_Spanish)\n",
    "\n",
    "print('The p-value is', p_value)"
   ]
  },
  {
   "cell_type": "markdown",
   "id": "3bc22480",
   "metadata": {},
   "source": [
    "### Step 6: Compare the p-value with  𝛼"
   ]
  },
  {
   "cell_type": "code",
   "execution_count": 120,
   "id": "5e75eed9",
   "metadata": {},
   "outputs": [
    {
     "name": "stdout",
     "output_type": "stream",
     "text": [
      "As the p-value 0.43204138694325955 is greater than the level of significance, we fail to reject the null hypothesis.\n"
     ]
    }
   ],
   "source": [
    "if p_value < 0.05:\n",
    "    print(f'As the p-value {p_value} is less than the level of significance, we reject the null hypothesis.')\n",
    "else:\n",
    "    print(f'As the p-value {p_value} is greater than the level of significance, we fail to reject the null hypothesis.')"
   ]
  },
  {
   "cell_type": "markdown",
   "id": "42833784",
   "metadata": {},
   "source": [
    "### Step 7: Draw inference"
   ]
  },
  {
   "cell_type": "markdown",
   "id": "f1a6d586",
   "metadata": {},
   "source": [
    "Hence we do not have any statistical evidence to say that the mean times spent by all three language users differ by a meaningful degree."
   ]
  },
  {
   "cell_type": "markdown",
   "id": "3acbc947",
   "metadata": {
    "id": "3acbc947"
   },
   "source": [
    "## Conclusion and Business Recommendations"
   ]
  },
  {
   "cell_type": "markdown",
   "id": "2ccfbd4a",
   "metadata": {},
   "source": [
    "**Conclusions:**\n",
    "1.Users spent more time on the new page.\n",
    "\n",
    "2.Conversion rate of new page is greater than that of old page.\n",
    "    \n",
    "3.Conversion status is independent of preferred language.    "
   ]
  },
  {
   "cell_type": "markdown",
   "id": "5fb67ac7",
   "metadata": {},
   "source": [
    "**Recommendations:**\n",
    "   Should use the new landing page to gather more subscribers.\n",
    "   \n",
    "   Also the more time a person spents on the site,the more likely for he/she converts.So design the page in a way that they stay for more and longer.Conversion will follow eventually.\n",
    "   \n",
    "   A great landing page focuses on a single conversion goal, so minimize other distractions that might carry visitors away.\n",
    "    Resist the urge to include unnecessary links away from your landing page, including site navigation, additional calls to action, \n",
    "    or even links back to your homepage. \n",
    "    Your landing page will work best if it stands alone."
   ]
  }
 ],
 "metadata": {
  "colab": {
   "collapsed_sections": [],
   "name": "ENews_Express_Learner_Notebook[Full Code Version].ipynb",
   "provenance": []
  },
  "kernelspec": {
   "display_name": "Python 3",
   "language": "python",
   "name": "python3"
  },
  "language_info": {
   "codemirror_mode": {
    "name": "ipython",
    "version": 3
   },
   "file_extension": ".py",
   "mimetype": "text/x-python",
   "name": "python",
   "nbconvert_exporter": "python",
   "pygments_lexer": "ipython3",
   "version": "3.8.8"
  }
 },
 "nbformat": 4,
 "nbformat_minor": 5
}
